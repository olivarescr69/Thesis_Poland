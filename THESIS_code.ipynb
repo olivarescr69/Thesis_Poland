{
 "cells": [
  {
   "cell_type": "code",
   "execution_count": 34,
   "id": "8f0015ec",
   "metadata": {},
   "outputs": [
    {
     "name": "stdout",
     "output_type": "stream",
     "text": [
      "Requirement already satisfied: scikit-plot in c:\\users\\msi\\appdata\\local\\programs\\python\\python312\\lib\\site-packages (0.3.7)\n",
      "Requirement already satisfied: matplotlib>=1.4.0 in c:\\users\\msi\\appdata\\local\\programs\\python\\python312\\lib\\site-packages (from scikit-plot) (3.8.2)\n",
      "Requirement already satisfied: scikit-learn>=0.18 in c:\\users\\msi\\appdata\\local\\programs\\python\\python312\\lib\\site-packages (from scikit-plot) (1.3.2)\n",
      "Requirement already satisfied: scipy>=0.9 in c:\\users\\msi\\appdata\\local\\programs\\python\\python312\\lib\\site-packages (from scikit-plot) (1.11.3)\n",
      "Requirement already satisfied: joblib>=0.10 in c:\\users\\msi\\appdata\\local\\programs\\python\\python312\\lib\\site-packages (from scikit-plot) (1.3.2)\n",
      "Requirement already satisfied: contourpy>=1.0.1 in c:\\users\\msi\\appdata\\local\\programs\\python\\python312\\lib\\site-packages (from matplotlib>=1.4.0->scikit-plot) (1.2.0)\n",
      "Requirement already satisfied: cycler>=0.10 in c:\\users\\msi\\appdata\\local\\programs\\python\\python312\\lib\\site-packages (from matplotlib>=1.4.0->scikit-plot) (0.12.1)\n",
      "Requirement already satisfied: fonttools>=4.22.0 in c:\\users\\msi\\appdata\\local\\programs\\python\\python312\\lib\\site-packages (from matplotlib>=1.4.0->scikit-plot) (4.45.0)\n",
      "Requirement already satisfied: kiwisolver>=1.3.1 in c:\\users\\msi\\appdata\\local\\programs\\python\\python312\\lib\\site-packages (from matplotlib>=1.4.0->scikit-plot) (1.4.5)\n",
      "Requirement already satisfied: numpy<2,>=1.21 in c:\\users\\msi\\appdata\\local\\programs\\python\\python312\\lib\\site-packages (from matplotlib>=1.4.0->scikit-plot) (1.26.1)\n",
      "Requirement already satisfied: packaging>=20.0 in c:\\users\\msi\\appdata\\local\\programs\\python\\python312\\lib\\site-packages (from matplotlib>=1.4.0->scikit-plot) (21.3)\n",
      "Requirement already satisfied: pillow>=8 in c:\\users\\msi\\appdata\\local\\programs\\python\\python312\\lib\\site-packages (from matplotlib>=1.4.0->scikit-plot) (10.1.0)\n",
      "Requirement already satisfied: pyparsing>=2.3.1 in c:\\users\\msi\\appdata\\local\\programs\\python\\python312\\lib\\site-packages (from matplotlib>=1.4.0->scikit-plot) (3.1.1)\n",
      "Requirement already satisfied: python-dateutil>=2.7 in c:\\users\\msi\\appdata\\local\\programs\\python\\python312\\lib\\site-packages (from matplotlib>=1.4.0->scikit-plot) (2.8.2)\n",
      "Requirement already satisfied: threadpoolctl>=2.0.0 in c:\\users\\msi\\appdata\\local\\programs\\python\\python312\\lib\\site-packages (from scikit-learn>=0.18->scikit-plot) (3.2.0)\n",
      "Requirement already satisfied: six>=1.5 in c:\\users\\msi\\appdata\\local\\programs\\python\\python312\\lib\\site-packages (from python-dateutil>=2.7->matplotlib>=1.4.0->scikit-plot) (1.16.0)\n"
     ]
    },
    {
     "name": "stderr",
     "output_type": "stream",
     "text": [
      "\n",
      "[notice] A new release of pip is available: 24.0 -> 25.1\n",
      "[notice] To update, run: python.exe -m pip install --upgrade pip\n"
     ]
    },
    {
     "name": "stdout",
     "output_type": "stream",
     "text": [
      "Requirement already satisfied: kaggle in c:\\users\\msi\\appdata\\local\\programs\\python\\python312\\lib\\site-packages (1.6.17)\n",
      "Requirement already satisfied: six>=1.10 in c:\\users\\msi\\appdata\\local\\programs\\python\\python312\\lib\\site-packages (from kaggle) (1.16.0)\n",
      "Requirement already satisfied: certifi>=2023.7.22 in c:\\users\\msi\\appdata\\local\\programs\\python\\python312\\lib\\site-packages (from kaggle) (2024.2.2)\n",
      "Requirement already satisfied: python-dateutil in c:\\users\\msi\\appdata\\local\\programs\\python\\python312\\lib\\site-packages (from kaggle) (2.8.2)\n",
      "Requirement already satisfied: requests in c:\\users\\msi\\appdata\\local\\programs\\python\\python312\\lib\\site-packages (from kaggle) (2.31.0)\n",
      "Requirement already satisfied: tqdm in c:\\users\\msi\\appdata\\local\\programs\\python\\python312\\lib\\site-packages (from kaggle) (4.66.2)\n",
      "Requirement already satisfied: python-slugify in c:\\users\\msi\\appdata\\local\\programs\\python\\python312\\lib\\site-packages (from kaggle) (8.0.4)\n",
      "Requirement already satisfied: urllib3 in c:\\users\\msi\\appdata\\local\\programs\\python\\python312\\lib\\site-packages (from kaggle) (2.2.1)\n",
      "Requirement already satisfied: bleach in c:\\users\\msi\\appdata\\local\\programs\\python\\python312\\lib\\site-packages (from kaggle) (1.5.0)\n",
      "Requirement already satisfied: html5lib!=0.9999,!=0.99999,<0.99999999,>=0.999 in c:\\users\\msi\\appdata\\local\\programs\\python\\python312\\lib\\site-packages (from bleach->kaggle) (0.9999999)\n",
      "Requirement already satisfied: text-unidecode>=1.3 in c:\\users\\msi\\appdata\\local\\programs\\python\\python312\\lib\\site-packages (from python-slugify->kaggle) (1.3)\n",
      "Requirement already satisfied: charset-normalizer<4,>=2 in c:\\users\\msi\\appdata\\local\\programs\\python\\python312\\lib\\site-packages (from requests->kaggle) (3.3.2)\n",
      "Requirement already satisfied: idna<4,>=2.5 in c:\\users\\msi\\appdata\\local\\programs\\python\\python312\\lib\\site-packages (from requests->kaggle) (3.6)\n",
      "Requirement already satisfied: colorama in c:\\users\\msi\\appdata\\roaming\\python\\python312\\site-packages (from tqdm->kaggle) (0.4.6)\n"
     ]
    },
    {
     "name": "stderr",
     "output_type": "stream",
     "text": [
      "\n",
      "[notice] A new release of pip is available: 24.0 -> 25.1\n",
      "[notice] To update, run: python.exe -m pip install --upgrade pip\n",
      "\n",
      "[notice] A new release of pip is available: 24.0 -> 25.1\n",
      "[notice] To update, run: python.exe -m pip install --upgrade pip\n"
     ]
    },
    {
     "name": "stdout",
     "output_type": "stream",
     "text": [
      "Requirement already satisfied: kagglehub in c:\\users\\msi\\appdata\\local\\programs\\python\\python312\\lib\\site-packages (0.2.1)\n",
      "Collecting kagglehub\n",
      "  Downloading kagglehub-0.3.12-py3-none-any.whl.metadata (38 kB)\n",
      "Requirement already satisfied: packaging in c:\\users\\msi\\appdata\\local\\programs\\python\\python312\\lib\\site-packages (from kagglehub) (21.3)\n",
      "Requirement already satisfied: pyyaml in c:\\users\\msi\\appdata\\local\\programs\\python\\python312\\lib\\site-packages (from kagglehub) (6.0.1)\n",
      "Requirement already satisfied: requests in c:\\users\\msi\\appdata\\local\\programs\\python\\python312\\lib\\site-packages (from kagglehub) (2.31.0)\n",
      "Requirement already satisfied: tqdm in c:\\users\\msi\\appdata\\local\\programs\\python\\python312\\lib\\site-packages (from kagglehub) (4.66.2)\n",
      "Requirement already satisfied: pyparsing!=3.0.5,>=2.0.2 in c:\\users\\msi\\appdata\\local\\programs\\python\\python312\\lib\\site-packages (from packaging->kagglehub) (3.1.1)\n",
      "Requirement already satisfied: charset-normalizer<4,>=2 in c:\\users\\msi\\appdata\\local\\programs\\python\\python312\\lib\\site-packages (from requests->kagglehub) (3.3.2)\n",
      "Requirement already satisfied: idna<4,>=2.5 in c:\\users\\msi\\appdata\\local\\programs\\python\\python312\\lib\\site-packages (from requests->kagglehub) (3.6)\n",
      "Requirement already satisfied: urllib3<3,>=1.21.1 in c:\\users\\msi\\appdata\\local\\programs\\python\\python312\\lib\\site-packages (from requests->kagglehub) (2.2.1)\n",
      "Requirement already satisfied: certifi>=2017.4.17 in c:\\users\\msi\\appdata\\local\\programs\\python\\python312\\lib\\site-packages (from requests->kagglehub) (2024.2.2)\n",
      "Requirement already satisfied: colorama in c:\\users\\msi\\appdata\\roaming\\python\\python312\\site-packages (from tqdm->kagglehub) (0.4.6)\n",
      "Downloading kagglehub-0.3.12-py3-none-any.whl (67 kB)\n",
      "   ---------------------------------------- 0.0/68.0 kB ? eta -:--:--\n",
      "   ------------------------------------ --- 61.4/68.0 kB 1.7 MB/s eta 0:00:01\n",
      "   ---------------------------------------- 68.0/68.0 kB 1.2 MB/s eta 0:00:00\n",
      "Installing collected packages: kagglehub\n",
      "  Attempting uninstall: kagglehub\n",
      "    Found existing installation: kagglehub 0.2.1\n",
      "    Uninstalling kagglehub-0.2.1:\n",
      "      Successfully uninstalled kagglehub-0.2.1\n",
      "Successfully installed kagglehub-0.3.12\n"
     ]
    }
   ],
   "source": [
    "!pip install scikit-plot\n",
    "!pip install kaggle\n",
    "!pip install kagglehub --upgrade"
   ]
  },
  {
   "cell_type": "markdown",
   "id": "308cecc9",
   "metadata": {
    "slideshow": {
     "slide_type": "slide"
    }
   },
   "source": [
    "# REGRESSION MODEL"
   ]
  },
  {
   "cell_type": "markdown",
   "id": "8d817a20",
   "metadata": {},
   "source": [
    "#### Import Libraries"
   ]
  },
  {
   "cell_type": "code",
   "execution_count": 1,
   "id": "f9e0dff7",
   "metadata": {},
   "outputs": [
    {
     "name": "stderr",
     "output_type": "stream",
     "text": [
      "c:\\Users\\MSI\\AppData\\Local\\Programs\\Python\\Python312\\Lib\\site-packages\\tqdm\\auto.py:21: TqdmWarning: IProgress not found. Please update jupyter and ipywidgets. See https://ipywidgets.readthedocs.io/en/stable/user_install.html\n",
      "  from .autonotebook import tqdm as notebook_tqdm\n"
     ]
    }
   ],
   "source": [
    "import pandas as pd\n",
    "import numpy as np\n",
    "import matplotlib.pyplot as plt\n",
    "import seaborn as sns\n",
    "from sklearn.impute import SimpleImputer\n",
    "from datetime import datetime\n",
    "from sklearn.preprocessing import LabelEncoder\n",
    "from sklearn.model_selection import train_test_split\n",
    "from sklearn import metrics\n",
    "from sklearn.metrics import roc_auc_score,roc_curve,auc\n",
    "from sklearn.ensemble import RandomForestClassifier,RandomForestRegressor\n",
    "import scikitplot as skplt\n",
    "import kagglehub"
   ]
  },
  {
   "cell_type": "markdown",
   "id": "818d1f2f",
   "metadata": {},
   "source": [
    "#### Import Data - Public Funding and Donations to UK Political Parties (Regression)\n",
    "\n",
    "https://www.kaggle.com/datasets/thedevastator/donations-accepted-by-political-parties-in-the-u\n",
    "\n"
   ]
  },
  {
   "cell_type": "code",
   "execution_count": 2,
   "id": "7c690931",
   "metadata": {},
   "outputs": [
    {
     "name": "stdout",
     "output_type": "stream",
     "text": [
      "Dataset Info:\n",
      "<class 'pandas.core.frame.DataFrame'>\n",
      "RangeIndex: 65278 entries, 0 to 65277\n",
      "Data columns (total 30 columns):\n",
      " #   Column                         Non-Null Count  Dtype  \n",
      "---  ------                         --------------  -----  \n",
      " 0   index                          65278 non-null  int64  \n",
      " 1   ECRef                          65278 non-null  object \n",
      " 2   RegulatedEntityName            65278 non-null  object \n",
      " 3   RegulatedEntityType            65278 non-null  object \n",
      " 4   Value                          65278 non-null  object \n",
      " 5   AcceptedDate                   64265 non-null  object \n",
      " 6   AccountingUnitName             56957 non-null  object \n",
      " 7   DonorName                      65193 non-null  object \n",
      " 8   AccountingUnitsAsCentralParty  65278 non-null  bool   \n",
      " 9   IsSponsorship                  65278 non-null  bool   \n",
      " 10  DonorStatus                    65220 non-null  object \n",
      " 11  RegulatedDoneeType             7090 non-null   object \n",
      " 12  CompanyRegistrationNumber      11480 non-null  object \n",
      " 13  Postcode                       35013 non-null  object \n",
      " 14  DonationType                   65278 non-null  object \n",
      " 15  NatureOfDonation               10104 non-null  object \n",
      " 16  PurposeOfVisit                 2634 non-null   object \n",
      " 17  DonationAction                 283 non-null    object \n",
      " 18  ReceivedDate                   62515 non-null  object \n",
      " 19  ReportedDate                   65257 non-null  object \n",
      " 20  IsReportedPrePoll              48936 non-null  object \n",
      " 21  ReportingPeriodName            65278 non-null  object \n",
      " 22  IsBequest                      65278 non-null  bool   \n",
      " 23  IsAggregation                  65278 non-null  bool   \n",
      " 24  RegulatedEntityId              65278 non-null  int64  \n",
      " 25  AccountingUnitId               36355 non-null  float64\n",
      " 26  DonorId                        65197 non-null  float64\n",
      " 27  CampaigningName                5 non-null      object \n",
      " 28  RegisterName                   64047 non-null  object \n",
      " 29  IsIrishSource                  64557 non-null  object \n",
      "dtypes: bool(4), float64(2), int64(2), object(22)\n",
      "memory usage: 13.2+ MB\n",
      "None\n",
      "\n",
      "Column Names:\n",
      "Index(['index', 'ECRef', 'RegulatedEntityName', 'RegulatedEntityType', 'Value',\n",
      "       'AcceptedDate', 'AccountingUnitName', 'DonorName',\n",
      "       'AccountingUnitsAsCentralParty', 'IsSponsorship', 'DonorStatus',\n",
      "       'RegulatedDoneeType', 'CompanyRegistrationNumber', 'Postcode',\n",
      "       'DonationType', 'NatureOfDonation', 'PurposeOfVisit', 'DonationAction',\n",
      "       'ReceivedDate', 'ReportedDate', 'IsReportedPrePoll',\n",
      "       'ReportingPeriodName', 'IsBequest', 'IsAggregation',\n",
      "       'RegulatedEntityId', 'AccountingUnitId', 'DonorId', 'CampaigningName',\n",
      "       'RegisterName', 'IsIrishSource'],\n",
      "      dtype='object')\n"
     ]
    },
    {
     "name": "stderr",
     "output_type": "stream",
     "text": [
      "C:\\Users\\MSI\\AppData\\Local\\Temp\\ipykernel_21024\\916651770.py:5: DtypeWarning: Columns (17) have mixed types. Specify dtype option on import or set low_memory=False.\n",
      "  data = pd.read_csv(csv_path)\n"
     ]
    }
   ],
   "source": [
    "# Path to your CSV file\n",
    "csv_path = r\"C:\\Users\\MSI\\OneDrive\\1. BiG_dAtA_Master_Degree\\thesis\\Code\\Data\\Regression\\Donations accepted by political parties.csv\"\n",
    "\n",
    "# Load the CSV\n",
    "data = pd.read_csv(csv_path)\n",
    "\n",
    "# Display basic information\n",
    "print(\"Dataset Info:\")\n",
    "print(data.info())\n",
    "print(\"\\nColumn Names:\")\n",
    "print(data.columns)"
   ]
  },
  {
   "cell_type": "code",
   "execution_count": 3,
   "id": "96fd65d2",
   "metadata": {},
   "outputs": [
    {
     "name": "stdout",
     "output_type": "stream",
     "text": [
      "\n",
      "Column Names:\n",
      "Index(['index', 'ECRef', 'RegulatedEntityName', 'RegulatedEntityType', 'Value',\n",
      "       'AcceptedDate', 'AccountingUnitName', 'DonorName',\n",
      "       'AccountingUnitsAsCentralParty', 'IsSponsorship', 'DonorStatus',\n",
      "       'RegulatedDoneeType', 'CompanyRegistrationNumber', 'Postcode',\n",
      "       'DonationType', 'NatureOfDonation', 'PurposeOfVisit', 'DonationAction',\n",
      "       'ReceivedDate', 'ReportedDate', 'IsReportedPrePoll',\n",
      "       'ReportingPeriodName', 'IsBequest', 'IsAggregation',\n",
      "       'RegulatedEntityId', 'AccountingUnitId', 'DonorId', 'CampaigningName',\n",
      "       'RegisterName', 'IsIrishSource'],\n",
      "      dtype='object')\n"
     ]
    }
   ],
   "source": [
    "print(\"\\nColumn Names:\")\n",
    "print(data.columns)"
   ]
  },
  {
   "cell_type": "code",
   "execution_count": 4,
   "id": "44f998d3",
   "metadata": {},
   "outputs": [
    {
     "data": {
      "text/html": [
       "<div>\n",
       "<style scoped>\n",
       "    .dataframe tbody tr th:only-of-type {\n",
       "        vertical-align: middle;\n",
       "    }\n",
       "\n",
       "    .dataframe tbody tr th {\n",
       "        vertical-align: top;\n",
       "    }\n",
       "\n",
       "    .dataframe thead th {\n",
       "        text-align: right;\n",
       "    }\n",
       "</style>\n",
       "<table border=\"1\" class=\"dataframe\">\n",
       "  <thead>\n",
       "    <tr style=\"text-align: right;\">\n",
       "      <th></th>\n",
       "      <th>index</th>\n",
       "      <th>ECRef</th>\n",
       "      <th>RegulatedEntityName</th>\n",
       "      <th>RegulatedEntityType</th>\n",
       "      <th>Value</th>\n",
       "      <th>AcceptedDate</th>\n",
       "      <th>AccountingUnitName</th>\n",
       "      <th>DonorName</th>\n",
       "      <th>AccountingUnitsAsCentralParty</th>\n",
       "      <th>IsSponsorship</th>\n",
       "      <th>...</th>\n",
       "      <th>IsReportedPrePoll</th>\n",
       "      <th>ReportingPeriodName</th>\n",
       "      <th>IsBequest</th>\n",
       "      <th>IsAggregation</th>\n",
       "      <th>RegulatedEntityId</th>\n",
       "      <th>AccountingUnitId</th>\n",
       "      <th>DonorId</th>\n",
       "      <th>CampaigningName</th>\n",
       "      <th>RegisterName</th>\n",
       "      <th>IsIrishSource</th>\n",
       "    </tr>\n",
       "  </thead>\n",
       "  <tbody>\n",
       "    <tr>\n",
       "      <th>0</th>\n",
       "      <td>0</td>\n",
       "      <td>NC0408174</td>\n",
       "      <td>Mr Andy Street</td>\n",
       "      <td>Regulated Donee</td>\n",
       "      <td>£1,876.56</td>\n",
       "      <td>02/09/2019</td>\n",
       "      <td>NaN</td>\n",
       "      <td>Conservative and Unionist Party</td>\n",
       "      <td>False</td>\n",
       "      <td>False</td>\n",
       "      <td>...</td>\n",
       "      <td>NaN</td>\n",
       "      <td>September 2019</td>\n",
       "      <td>False</td>\n",
       "      <td>False</td>\n",
       "      <td>8015</td>\n",
       "      <td>NaN</td>\n",
       "      <td>86310.0</td>\n",
       "      <td>NaN</td>\n",
       "      <td>Great Britain</td>\n",
       "      <td>False</td>\n",
       "    </tr>\n",
       "    <tr>\n",
       "      <th>1</th>\n",
       "      <td>1</td>\n",
       "      <td>NC0408173</td>\n",
       "      <td>Mr Andy Street</td>\n",
       "      <td>Regulated Donee</td>\n",
       "      <td>£2,700.00</td>\n",
       "      <td>02/09/2019</td>\n",
       "      <td>NaN</td>\n",
       "      <td>Conservative and Unionist Party</td>\n",
       "      <td>False</td>\n",
       "      <td>False</td>\n",
       "      <td>...</td>\n",
       "      <td>NaN</td>\n",
       "      <td>September 2019</td>\n",
       "      <td>False</td>\n",
       "      <td>False</td>\n",
       "      <td>8015</td>\n",
       "      <td>NaN</td>\n",
       "      <td>86310.0</td>\n",
       "      <td>NaN</td>\n",
       "      <td>Great Britain</td>\n",
       "      <td>False</td>\n",
       "    </tr>\n",
       "    <tr>\n",
       "      <th>2</th>\n",
       "      <td>2</td>\n",
       "      <td>NC0408177</td>\n",
       "      <td>Mr Andy Street</td>\n",
       "      <td>Regulated Donee</td>\n",
       "      <td>£4,852.58</td>\n",
       "      <td>30/08/2019</td>\n",
       "      <td>NaN</td>\n",
       "      <td>Conservative and Unionist Party</td>\n",
       "      <td>False</td>\n",
       "      <td>False</td>\n",
       "      <td>...</td>\n",
       "      <td>NaN</td>\n",
       "      <td>September 2019</td>\n",
       "      <td>False</td>\n",
       "      <td>False</td>\n",
       "      <td>8015</td>\n",
       "      <td>NaN</td>\n",
       "      <td>86310.0</td>\n",
       "      <td>NaN</td>\n",
       "      <td>Great Britain</td>\n",
       "      <td>False</td>\n",
       "    </tr>\n",
       "    <tr>\n",
       "      <th>3</th>\n",
       "      <td>3</td>\n",
       "      <td>NC0408176</td>\n",
       "      <td>Mr Andy Street</td>\n",
       "      <td>Regulated Donee</td>\n",
       "      <td>£2,500.00</td>\n",
       "      <td>30/08/2019</td>\n",
       "      <td>NaN</td>\n",
       "      <td>Conservative and Unionist Party</td>\n",
       "      <td>False</td>\n",
       "      <td>False</td>\n",
       "      <td>...</td>\n",
       "      <td>NaN</td>\n",
       "      <td>September 2019</td>\n",
       "      <td>False</td>\n",
       "      <td>False</td>\n",
       "      <td>8015</td>\n",
       "      <td>NaN</td>\n",
       "      <td>86310.0</td>\n",
       "      <td>NaN</td>\n",
       "      <td>Great Britain</td>\n",
       "      <td>False</td>\n",
       "    </tr>\n",
       "    <tr>\n",
       "      <th>4</th>\n",
       "      <td>4</td>\n",
       "      <td>NC0408170</td>\n",
       "      <td>Mr Andy Street</td>\n",
       "      <td>Regulated Donee</td>\n",
       "      <td>£4,524.05</td>\n",
       "      <td>29/08/2019</td>\n",
       "      <td>NaN</td>\n",
       "      <td>Conservative and Unionist Party</td>\n",
       "      <td>False</td>\n",
       "      <td>False</td>\n",
       "      <td>...</td>\n",
       "      <td>NaN</td>\n",
       "      <td>September 2019</td>\n",
       "      <td>False</td>\n",
       "      <td>False</td>\n",
       "      <td>8015</td>\n",
       "      <td>NaN</td>\n",
       "      <td>86310.0</td>\n",
       "      <td>NaN</td>\n",
       "      <td>Great Britain</td>\n",
       "      <td>False</td>\n",
       "    </tr>\n",
       "  </tbody>\n",
       "</table>\n",
       "<p>5 rows × 30 columns</p>\n",
       "</div>"
      ],
      "text/plain": [
       "   index      ECRef RegulatedEntityName RegulatedEntityType      Value  \\\n",
       "0      0  NC0408174      Mr Andy Street     Regulated Donee  £1,876.56   \n",
       "1      1  NC0408173      Mr Andy Street     Regulated Donee  £2,700.00   \n",
       "2      2  NC0408177      Mr Andy Street     Regulated Donee  £4,852.58   \n",
       "3      3  NC0408176      Mr Andy Street     Regulated Donee  £2,500.00   \n",
       "4      4  NC0408170      Mr Andy Street     Regulated Donee  £4,524.05   \n",
       "\n",
       "  AcceptedDate AccountingUnitName                        DonorName  \\\n",
       "0   02/09/2019                NaN  Conservative and Unionist Party   \n",
       "1   02/09/2019                NaN  Conservative and Unionist Party   \n",
       "2   30/08/2019                NaN  Conservative and Unionist Party   \n",
       "3   30/08/2019                NaN  Conservative and Unionist Party   \n",
       "4   29/08/2019                NaN  Conservative and Unionist Party   \n",
       "\n",
       "   AccountingUnitsAsCentralParty  IsSponsorship  ... IsReportedPrePoll  \\\n",
       "0                          False          False  ...               NaN   \n",
       "1                          False          False  ...               NaN   \n",
       "2                          False          False  ...               NaN   \n",
       "3                          False          False  ...               NaN   \n",
       "4                          False          False  ...               NaN   \n",
       "\n",
       "  ReportingPeriodName IsBequest IsAggregation RegulatedEntityId  \\\n",
       "0      September 2019     False         False              8015   \n",
       "1      September 2019     False         False              8015   \n",
       "2      September 2019     False         False              8015   \n",
       "3      September 2019     False         False              8015   \n",
       "4      September 2019     False         False              8015   \n",
       "\n",
       "  AccountingUnitId  DonorId CampaigningName   RegisterName IsIrishSource  \n",
       "0              NaN  86310.0             NaN  Great Britain         False  \n",
       "1              NaN  86310.0             NaN  Great Britain         False  \n",
       "2              NaN  86310.0             NaN  Great Britain         False  \n",
       "3              NaN  86310.0             NaN  Great Britain         False  \n",
       "4              NaN  86310.0             NaN  Great Britain         False  \n",
       "\n",
       "[5 rows x 30 columns]"
      ]
     },
     "execution_count": 4,
     "metadata": {},
     "output_type": "execute_result"
    }
   ],
   "source": [
    "data.head()"
   ]
  },
  {
   "cell_type": "markdown",
   "id": "a89e7318",
   "metadata": {},
   "source": [
    "### EXPLORATION AND CLEANING DATA"
   ]
  },
  {
   "cell_type": "markdown",
   "id": "de37d0eb",
   "metadata": {},
   "source": [
    "###### Summary of Excluded Columns\n",
    "- ###### Identifiers: index, ECRef, RegulatedEntityId, AccountingUnitId, DonorId – No predictive value, only unique identifiers.\n",
    "- ###### High Missing Rate: RegulatedDoneeType (~89%), CompanyRegistrationNumber (~82%), NatureOfDonation (~85%), PurposeOfVisit (~96%), DonationAction (~99.6%), CampaigningName (~99.99%) – Too many missing values, unusable.\n",
    "- ###### Redundant: AccountingUnitName (~13%, redundant with RegulatedEntityName), ReceivedDate (~4%, similar to AcceptedDate), ReportingPeriodName (redundant with AcceptedDate), Reported ReportedDate (administrative) – Duplicated or irrelevant information.\n",
    "- ###### High Cardinality: DonorName (unique names), RegulatedEntityName (1,384 values), Postcode (4,559 values) – Generate excessive dummy columns, increasing complexity and risk of overfitting.\n",
    "- ###### Low Variability: IsReportedPrePoll (only False), RegisterName (~90% Great Britain) – Do not provide predictive information."
   ]
  },
  {
   "cell_type": "code",
   "execution_count": 5,
   "id": "77cec604",
   "metadata": {},
   "outputs": [
    {
     "name": "stdout",
     "output_type": "stream",
     "text": [
      "             Value    RegulatedEntityType                 DonorStatus  \\\n",
      "0        £1,876.56        Regulated Donee  Registered Political Party   \n",
      "1        £2,700.00        Regulated Donee  Registered Political Party   \n",
      "2        £4,852.58        Regulated Donee  Registered Political Party   \n",
      "3        £2,500.00        Regulated Donee  Registered Political Party   \n",
      "4        £4,524.05        Regulated Donee  Registered Political Party   \n",
      "...            ...                    ...                         ...   \n",
      "65273   £10,000.00  Permitted Participant                     Company   \n",
      "65274  £100,000.00  Permitted Participant                  Individual   \n",
      "65275   £40,000.00  Permitted Participant                  Individual   \n",
      "65276   £50,000.00        Political Party                  Individual   \n",
      "65277   £15,000.00        Political Party                  Individual   \n",
      "\n",
      "      DonationType AcceptedDate  IsSponsorship  IsBequest  IsAggregation  \\\n",
      "0         Non Cash   02/09/2019          False      False          False   \n",
      "1         Non Cash   02/09/2019          False      False          False   \n",
      "2         Non Cash   30/08/2019          False      False          False   \n",
      "3         Non Cash   30/08/2019          False      False          False   \n",
      "4         Non Cash   29/08/2019          False      False          False   \n",
      "...            ...          ...            ...        ...            ...   \n",
      "65273         Cash          NaN          False      False          False   \n",
      "65274         Cash          NaN          False      False          False   \n",
      "65275         Cash          NaN          False      False          False   \n",
      "65276         Cash          NaN          False      False          False   \n",
      "65277         Cash          NaN          False      False          False   \n",
      "\n",
      "       AccountingUnitsAsCentralParty IsIrishSource  \n",
      "0                              False         False  \n",
      "1                              False         False  \n",
      "2                              False         False  \n",
      "3                              False         False  \n",
      "4                              False         False  \n",
      "...                              ...           ...  \n",
      "65273                          False         False  \n",
      "65274                          False         False  \n",
      "65275                          False         False  \n",
      "65276                          False         False  \n",
      "65277                          False         False  \n",
      "\n",
      "[65278 rows x 10 columns]\n"
     ]
    }
   ],
   "source": [
    "# Select definitive columns\n",
    "selected_columns = [\n",
    "    'Value', 'RegulatedEntityType', 'DonorStatus', 'DonationType', \n",
    "    'AcceptedDate', 'IsSponsorship', 'IsBequest', 'IsAggregation', \n",
    "    'AccountingUnitsAsCentralParty', 'IsIrishSource'\n",
    "    ]\n",
    "data_selected = data[selected_columns].copy()  # Create independent copy\n",
    "print(data_selected)"
   ]
  },
  {
   "cell_type": "code",
   "execution_count": 6,
   "id": "83b5f37f",
   "metadata": {},
   "outputs": [
    {
     "name": "stdout",
     "output_type": "stream",
     "text": [
      "          Value    RegulatedEntityType                 DonorStatus  \\\n",
      "0       1876.56        Regulated Donee  Registered Political Party   \n",
      "1        2700.0        Regulated Donee  Registered Political Party   \n",
      "2       4852.58        Regulated Donee  Registered Political Party   \n",
      "3        2500.0        Regulated Donee  Registered Political Party   \n",
      "4       4524.05        Regulated Donee  Registered Political Party   \n",
      "...         ...                    ...                         ...   \n",
      "65273   10000.0  Permitted Participant                     Company   \n",
      "65274  100000.0  Permitted Participant                  Individual   \n",
      "65275   40000.0  Permitted Participant                  Individual   \n",
      "65276   50000.0        Political Party                  Individual   \n",
      "65277   15000.0        Political Party                  Individual   \n",
      "\n",
      "      DonationType AcceptedDate  IsSponsorship  IsBequest  IsAggregation  \\\n",
      "0         Non Cash   02/09/2019          False      False          False   \n",
      "1         Non Cash   02/09/2019          False      False          False   \n",
      "2         Non Cash   30/08/2019          False      False          False   \n",
      "3         Non Cash   30/08/2019          False      False          False   \n",
      "4         Non Cash   29/08/2019          False      False          False   \n",
      "...            ...          ...            ...        ...            ...   \n",
      "65273         Cash          NaN          False      False          False   \n",
      "65274         Cash          NaN          False      False          False   \n",
      "65275         Cash          NaN          False      False          False   \n",
      "65276         Cash          NaN          False      False          False   \n",
      "65277         Cash          NaN          False      False          False   \n",
      "\n",
      "       AccountingUnitsAsCentralParty IsIrishSource  \n",
      "0                              False         False  \n",
      "1                              False         False  \n",
      "2                              False         False  \n",
      "3                              False         False  \n",
      "4                              False         False  \n",
      "...                              ...           ...  \n",
      "65273                          False         False  \n",
      "65274                          False         False  \n",
      "65275                          False         False  \n",
      "65276                          False         False  \n",
      "65277                          False         False  \n",
      "\n",
      "[65278 rows x 10 columns]\n",
      "NEW Dataset Info:\n",
      "<class 'pandas.core.frame.DataFrame'>\n",
      "RangeIndex: 65278 entries, 0 to 65277\n",
      "Data columns (total 10 columns):\n",
      " #   Column                         Non-Null Count  Dtype \n",
      "---  ------                         --------------  ----- \n",
      " 0   Value                          65278 non-null  object\n",
      " 1   RegulatedEntityType            65278 non-null  object\n",
      " 2   DonorStatus                    65220 non-null  object\n",
      " 3   DonationType                   65278 non-null  object\n",
      " 4   AcceptedDate                   64265 non-null  object\n",
      " 5   IsSponsorship                  65278 non-null  bool  \n",
      " 6   IsBequest                      65278 non-null  bool  \n",
      " 7   IsAggregation                  65278 non-null  bool  \n",
      " 8   AccountingUnitsAsCentralParty  65278 non-null  bool  \n",
      " 9   IsIrishSource                  64557 non-null  object\n",
      "dtypes: bool(4), object(6)\n",
      "memory usage: 3.2+ MB\n",
      "None\n"
     ]
    }
   ],
   "source": [
    "#Clean and convert 'Value'\n",
    "data_selected.loc[:, 'Value'] = data_selected['Value'].replace('[\\£,]', '', regex=True)\n",
    "data_selected.loc[:, 'Value'] = pd.to_numeric(data_selected['Value'], errors='coerce')\n",
    "print(data_selected)\n",
    "\n",
    "print(\"NEW Dataset Info:\")\n",
    "print(data_selected.info())"
   ]
  },
  {
   "cell_type": "code",
   "execution_count": 7,
   "id": "cfaff431",
   "metadata": {},
   "outputs": [
    {
     "name": "stdout",
     "output_type": "stream",
     "text": [
      "Missing values after imputation:\n",
      "Value                            0\n",
      "RegulatedEntityType              0\n",
      "DonorStatus                      0\n",
      "DonationType                     0\n",
      "AcceptedDate                     0\n",
      "IsSponsorship                    0\n",
      "IsBequest                        0\n",
      "IsAggregation                    0\n",
      "AccountingUnitsAsCentralParty    0\n",
      "IsIrishSource                    0\n",
      "dtype: int64\n"
     ]
    }
   ],
   "source": [
    "#Handle missing values with MODA\n",
    "cat_columns = ['RegulatedEntityType', 'DonorStatus', 'DonationType', 'IsIrishSource']\n",
    "imputer_cat = SimpleImputer(strategy='most_frequent') # Imputed by MODA\n",
    "\n",
    "data_selected.loc[:, cat_columns] = imputer_cat.fit_transform(\n",
    "    data_selected[cat_columns])\n",
    "\n",
    "# Drop rows with missing AcceptedDate\n",
    "data_selected = data_selected.dropna(subset=['AcceptedDate'])\n",
    "\n",
    "# Verification\n",
    "print(\"Missing values after imputation:\")\n",
    "print(data_selected.isna().sum())"
   ]
  },
  {
   "cell_type": "code",
   "execution_count": 8,
   "id": "333d0f6b",
   "metadata": {},
   "outputs": [
    {
     "name": "stdout",
     "output_type": "stream",
     "text": [
      "NaT dates (invalid or null): 0\n"
     ]
    }
   ],
   "source": [
    "#Feature EngineerAcceptedDate\n",
    "# Adapted function to convert text or datetime to datetime\n",
    "def convert_to_datetime(value):\n",
    "    if pd.isna(value):\n",
    "        return pd.NaT\n",
    "    if isinstance(value, pd.Timestamp) or isinstance(value, datetime):  # Preserve Timestamps or datetime\n",
    "        return pd.to_datetime(value)\n",
    "    if isinstance(value, str):  # Handle text dates\n",
    "        try:\n",
    "            # Try dd/mm/yyyy or d/m/yyyy (both handled by %d/%m/%Y)\n",
    "            return pd.to_datetime(value, format='%d/%m/%Y', errors='coerce')\n",
    "        except:\n",
    "            return pd.NaT\n",
    "    return pd.NaT\n",
    "\n",
    "# Apply conversion\n",
    "# Observation: Convert text dates to datetime, preserve Timestamps. Keep NaT for nulls/invalid dates.\n",
    "data_selected.loc[:, 'AcceptedDate'] = data_selected['AcceptedDate'].apply(convert_to_datetime)\n",
    "#Verify\n",
    "print(\"NaT dates (invalid or null):\", data_selected['AcceptedDate'].isna().sum())"
   ]
  },
  {
   "cell_type": "code",
   "execution_count": 9,
   "id": "0c59f1b2",
   "metadata": {},
   "outputs": [
    {
     "name": "stdout",
     "output_type": "stream",
     "text": [
      "\n",
      "Unique values of Year (without NaN)): [2001, 2002, 2003, 2004, 2005, 2006, 2007, 2008, 2009, 2010, 2011, 2012, 2013, 2014, 2015, 2016, 2017, 2018, 2019]\n"
     ]
    }
   ],
   "source": [
    "# Extract Year\n",
    "# Convert AcceptedDate to datetime64[ns]\n",
    "data_selected['AcceptedDate'] = pd.to_datetime(data_selected['AcceptedDate'], errors='coerce', dayfirst=True)\n",
    "# Extract year and drop the original column\n",
    "data_selected['Year'] = data_selected['AcceptedDate'].dt.year\n",
    "data_selected.drop(columns='AcceptedDate', inplace=True)\n",
    "\n",
    "# Verification\n",
    "print(\"\\nUnique values of Year (without NaN)):\", sorted(data_selected['Year'].dropna().unique()))"
   ]
  },
  {
   "cell_type": "code",
   "execution_count": 12,
   "id": "60a04624",
   "metadata": {},
   "outputs": [
    {
     "name": "stdout",
     "output_type": "stream",
     "text": [
      "Valores negativos: 0\n",
      "Valores nulos: 0\n"
     ]
    }
   ],
   "source": [
    "print(\"Valores negativos:\", (data_selected['Value'] < 0).sum())\n",
    "print(\"Valores nulos:\", data_selected['Value'].isna().sum())\n"
   ]
  },
  {
   "cell_type": "code",
   "execution_count": 13,
   "id": "d3833a61",
   "metadata": {},
   "outputs": [],
   "source": [
    "import numpy as np\n"
   ]
  },
  {
   "cell_type": "code",
   "execution_count": 14,
   "id": "7675e59f",
   "metadata": {},
   "outputs": [
    {
     "ename": "TypeError",
     "evalue": "loop of ufunc does not support argument 0 of type float which has no callable log1p method",
     "output_type": "error",
     "traceback": [
      "\u001b[1;31m---------------------------------------------------------------------------\u001b[0m",
      "\u001b[1;31mAttributeError\u001b[0m                            Traceback (most recent call last)",
      "\u001b[1;31mAttributeError\u001b[0m: 'float' object has no attribute 'log1p'",
      "\nThe above exception was the direct cause of the following exception:\n",
      "\u001b[1;31mTypeError\u001b[0m                                 Traceback (most recent call last)",
      "Cell \u001b[1;32mIn[14], line 2\u001b[0m\n\u001b[0;32m      1\u001b[0m \u001b[38;5;66;03m# Step 5: Transform target variable\u001b[39;00m\n\u001b[1;32m----> 2\u001b[0m data_selected\u001b[38;5;241m.\u001b[39mloc[:, \u001b[38;5;124m'\u001b[39m\u001b[38;5;124mValue\u001b[39m\u001b[38;5;124m'\u001b[39m] \u001b[38;5;241m=\u001b[39m \u001b[43mnp\u001b[49m\u001b[38;5;241;43m.\u001b[39;49m\u001b[43mlog1p\u001b[49m\u001b[43m(\u001b[49m\u001b[43mdata_selected\u001b[49m\u001b[43m[\u001b[49m\u001b[38;5;124;43m'\u001b[39;49m\u001b[38;5;124;43mValue\u001b[39;49m\u001b[38;5;124;43m'\u001b[39;49m\u001b[43m]\u001b[49m\u001b[43m)\u001b[49m\n\u001b[0;32m      4\u001b[0m \u001b[38;5;66;03m# Visualize transformed distribution\u001b[39;00m\n\u001b[0;32m      5\u001b[0m \u001b[38;5;66;03m# Observation: Plot to confirm log1p makes Value distribution more symmetric, aiding model stability.\u001b[39;00m\n\u001b[0;32m      6\u001b[0m plt\u001b[38;5;241m.\u001b[39mfigure(figsize\u001b[38;5;241m=\u001b[39m(\u001b[38;5;241m10\u001b[39m, \u001b[38;5;241m6\u001b[39m))\n",
      "File \u001b[1;32mc:\\Users\\MSI\\AppData\\Local\\Programs\\Python\\Python312\\Lib\\site-packages\\pandas\\core\\generic.py:2102\u001b[0m, in \u001b[0;36mNDFrame.__array_ufunc__\u001b[1;34m(self, ufunc, method, *inputs, **kwargs)\u001b[0m\n\u001b[0;32m   2098\u001b[0m \u001b[38;5;129m@final\u001b[39m\n\u001b[0;32m   2099\u001b[0m \u001b[38;5;28;01mdef\u001b[39;00m \u001b[38;5;21m__array_ufunc__\u001b[39m(\n\u001b[0;32m   2100\u001b[0m     \u001b[38;5;28mself\u001b[39m, ufunc: np\u001b[38;5;241m.\u001b[39mufunc, method: \u001b[38;5;28mstr\u001b[39m, \u001b[38;5;241m*\u001b[39minputs: Any, \u001b[38;5;241m*\u001b[39m\u001b[38;5;241m*\u001b[39mkwargs: Any\n\u001b[0;32m   2101\u001b[0m ):\n\u001b[1;32m-> 2102\u001b[0m     \u001b[38;5;28;01mreturn\u001b[39;00m \u001b[43marraylike\u001b[49m\u001b[38;5;241;43m.\u001b[39;49m\u001b[43marray_ufunc\u001b[49m\u001b[43m(\u001b[49m\u001b[38;5;28;43mself\u001b[39;49m\u001b[43m,\u001b[49m\u001b[43m \u001b[49m\u001b[43mufunc\u001b[49m\u001b[43m,\u001b[49m\u001b[43m \u001b[49m\u001b[43mmethod\u001b[49m\u001b[43m,\u001b[49m\u001b[43m \u001b[49m\u001b[38;5;241;43m*\u001b[39;49m\u001b[43minputs\u001b[49m\u001b[43m,\u001b[49m\u001b[43m \u001b[49m\u001b[38;5;241;43m*\u001b[39;49m\u001b[38;5;241;43m*\u001b[39;49m\u001b[43mkwargs\u001b[49m\u001b[43m)\u001b[49m\n",
      "File \u001b[1;32mc:\\Users\\MSI\\AppData\\Local\\Programs\\Python\\Python312\\Lib\\site-packages\\pandas\\core\\arraylike.py:396\u001b[0m, in \u001b[0;36marray_ufunc\u001b[1;34m(self, ufunc, method, *inputs, **kwargs)\u001b[0m\n\u001b[0;32m    393\u001b[0m \u001b[38;5;28;01melif\u001b[39;00m \u001b[38;5;28mself\u001b[39m\u001b[38;5;241m.\u001b[39mndim \u001b[38;5;241m==\u001b[39m \u001b[38;5;241m1\u001b[39m:\n\u001b[0;32m    394\u001b[0m     \u001b[38;5;66;03m# ufunc(series, ...)\u001b[39;00m\n\u001b[0;32m    395\u001b[0m     inputs \u001b[38;5;241m=\u001b[39m \u001b[38;5;28mtuple\u001b[39m(extract_array(x, extract_numpy\u001b[38;5;241m=\u001b[39m\u001b[38;5;28;01mTrue\u001b[39;00m) \u001b[38;5;28;01mfor\u001b[39;00m x \u001b[38;5;129;01min\u001b[39;00m inputs)\n\u001b[1;32m--> 396\u001b[0m     result \u001b[38;5;241m=\u001b[39m \u001b[38;5;28;43mgetattr\u001b[39;49m\u001b[43m(\u001b[49m\u001b[43mufunc\u001b[49m\u001b[43m,\u001b[49m\u001b[43m \u001b[49m\u001b[43mmethod\u001b[49m\u001b[43m)\u001b[49m\u001b[43m(\u001b[49m\u001b[38;5;241;43m*\u001b[39;49m\u001b[43minputs\u001b[49m\u001b[43m,\u001b[49m\u001b[43m \u001b[49m\u001b[38;5;241;43m*\u001b[39;49m\u001b[38;5;241;43m*\u001b[39;49m\u001b[43mkwargs\u001b[49m\u001b[43m)\u001b[49m\n\u001b[0;32m    397\u001b[0m \u001b[38;5;28;01melse\u001b[39;00m:\n\u001b[0;32m    398\u001b[0m     \u001b[38;5;66;03m# ufunc(dataframe)\u001b[39;00m\n\u001b[0;32m    399\u001b[0m     \u001b[38;5;28;01mif\u001b[39;00m method \u001b[38;5;241m==\u001b[39m \u001b[38;5;124m\"\u001b[39m\u001b[38;5;124m__call__\u001b[39m\u001b[38;5;124m\"\u001b[39m \u001b[38;5;129;01mand\u001b[39;00m \u001b[38;5;129;01mnot\u001b[39;00m kwargs:\n\u001b[0;32m    400\u001b[0m         \u001b[38;5;66;03m# for np.<ufunc>(..) calls\u001b[39;00m\n\u001b[0;32m    401\u001b[0m         \u001b[38;5;66;03m# kwargs cannot necessarily be handled block-by-block, so only\u001b[39;00m\n\u001b[0;32m    402\u001b[0m         \u001b[38;5;66;03m# take this path if there are no kwargs\u001b[39;00m\n",
      "\u001b[1;31mTypeError\u001b[0m: loop of ufunc does not support argument 0 of type float which has no callable log1p method"
     ]
    }
   ],
   "source": [
    "# Step 5: Transform target variable\n",
    "data_selected.loc[:, 'Value'] = np.log1p(data_selected['Value'])\n",
    "\n",
    "# Visualize transformed distribution\n",
    "# Observation: Plot to confirm log1p makes Value distribution more symmetric, aiding model stability.\n",
    "plt.figure(figsize=(10, 6))\n",
    "sns.histplot(data_selected['Value'], bins=50, kde=True)\n",
    "plt.title('Distribución de los Montos de Donaciones (log1p(Value))')\n",
    "plt.xlabel('Monto de Donación (log GBP)')\n",
    "plt.ylabel('Frecuencia')\n",
    "plt.show()"
   ]
  },
  {
   "cell_type": "code",
   "execution_count": null,
   "id": "eae96591",
   "metadata": {},
   "outputs": [],
   "source": []
  },
  {
   "cell_type": "code",
   "execution_count": null,
   "id": "bfe2178c",
   "metadata": {},
   "outputs": [],
   "source": []
  },
  {
   "cell_type": "markdown",
   "id": "ea4e5fa5",
   "metadata": {},
   "source": [
    "Label Encoding"
   ]
  },
  {
   "cell_type": "code",
   "execution_count": 16,
   "id": "284fc337",
   "metadata": {},
   "outputs": [],
   "source": [
    "le = LabelEncoder()\n",
    "for col in train_data_classification:\n",
    "    if train_data_classification[col].dtype == \"object\":\n",
    "        train_data_classification[col] = le.fit_transform(train_data_classification[col])\n",
    "        test_data_classification[col] = le.fit_transform(test_data_classification[col])"
   ]
  },
  {
   "cell_type": "markdown",
   "id": "efd7c8eb",
   "metadata": {},
   "source": [
    "Dropping Columns with NA's"
   ]
  },
  {
   "cell_type": "code",
   "execution_count": 17,
   "id": "dd908012",
   "metadata": {},
   "outputs": [],
   "source": [
    "train_data_classification.drop(['id','customer_age','balance','last_contact_duration','num_contacts_in_campaign','days_since_prev_campaign_contact'],axis=1,inplace=True)\n",
    "test_data_classification.drop(['id','customer_age','balance','last_contact_duration','num_contacts_in_campaign','days_since_prev_campaign_contact'],axis=1,inplace=True)"
   ]
  },
  {
   "cell_type": "code",
   "execution_count": 18,
   "id": "e49ac5c0",
   "metadata": {},
   "outputs": [
    {
     "data": {
      "text/html": [
       "<div>\n",
       "<style scoped>\n",
       "    .dataframe tbody tr th:only-of-type {\n",
       "        vertical-align: middle;\n",
       "    }\n",
       "\n",
       "    .dataframe tbody tr th {\n",
       "        vertical-align: top;\n",
       "    }\n",
       "\n",
       "    .dataframe thead th {\n",
       "        text-align: right;\n",
       "    }\n",
       "</style>\n",
       "<table border=\"1\" class=\"dataframe\">\n",
       "  <thead>\n",
       "    <tr style=\"text-align: right;\">\n",
       "      <th></th>\n",
       "      <th>job_type</th>\n",
       "      <th>marital</th>\n",
       "      <th>education</th>\n",
       "      <th>default</th>\n",
       "      <th>housing_loan</th>\n",
       "      <th>personal_loan</th>\n",
       "      <th>communication_type</th>\n",
       "      <th>day_of_month</th>\n",
       "      <th>month</th>\n",
       "      <th>num_contacts_prev_campaign</th>\n",
       "      <th>prev_campaign_outcome</th>\n",
       "    </tr>\n",
       "  </thead>\n",
       "  <tbody>\n",
       "    <tr>\n",
       "      <th>0</th>\n",
       "      <td>5</td>\n",
       "      <td>1</td>\n",
       "      <td>2</td>\n",
       "      <td>0</td>\n",
       "      <td>0</td>\n",
       "      <td>0</td>\n",
       "      <td>0</td>\n",
       "      <td>13</td>\n",
       "      <td>1</td>\n",
       "      <td>0</td>\n",
       "      <td>3</td>\n",
       "    </tr>\n",
       "    <tr>\n",
       "      <th>1</th>\n",
       "      <td>1</td>\n",
       "      <td>2</td>\n",
       "      <td>1</td>\n",
       "      <td>0</td>\n",
       "      <td>1</td>\n",
       "      <td>0</td>\n",
       "      <td>0</td>\n",
       "      <td>18</td>\n",
       "      <td>8</td>\n",
       "      <td>0</td>\n",
       "      <td>3</td>\n",
       "    </tr>\n",
       "    <tr>\n",
       "      <th>2</th>\n",
       "      <td>9</td>\n",
       "      <td>0</td>\n",
       "      <td>1</td>\n",
       "      <td>0</td>\n",
       "      <td>0</td>\n",
       "      <td>0</td>\n",
       "      <td>0</td>\n",
       "      <td>8</td>\n",
       "      <td>5</td>\n",
       "      <td>0</td>\n",
       "      <td>3</td>\n",
       "    </tr>\n",
       "    <tr>\n",
       "      <th>3</th>\n",
       "      <td>3</td>\n",
       "      <td>2</td>\n",
       "      <td>3</td>\n",
       "      <td>0</td>\n",
       "      <td>0</td>\n",
       "      <td>0</td>\n",
       "      <td>2</td>\n",
       "      <td>6</td>\n",
       "      <td>6</td>\n",
       "      <td>0</td>\n",
       "      <td>3</td>\n",
       "    </tr>\n",
       "    <tr>\n",
       "      <th>4</th>\n",
       "      <td>5</td>\n",
       "      <td>1</td>\n",
       "      <td>1</td>\n",
       "      <td>0</td>\n",
       "      <td>0</td>\n",
       "      <td>0</td>\n",
       "      <td>0</td>\n",
       "      <td>12</td>\n",
       "      <td>0</td>\n",
       "      <td>1</td>\n",
       "      <td>2</td>\n",
       "    </tr>\n",
       "  </tbody>\n",
       "</table>\n",
       "</div>"
      ],
      "text/plain": [
       "   job_type  marital  education  default  housing_loan  personal_loan  \\\n",
       "0         5        1          2        0             0              0   \n",
       "1         1        2          1        0             1              0   \n",
       "2         9        0          1        0             0              0   \n",
       "3         3        2          3        0             0              0   \n",
       "4         5        1          1        0             0              0   \n",
       "\n",
       "   communication_type  day_of_month  month  num_contacts_prev_campaign  \\\n",
       "0                   0            13      1                           0   \n",
       "1                   0            18      8                           0   \n",
       "2                   0             8      5                           0   \n",
       "3                   2             6      6                           0   \n",
       "4                   0            12      0                           1   \n",
       "\n",
       "   prev_campaign_outcome  \n",
       "0                      3  \n",
       "1                      3  \n",
       "2                      3  \n",
       "3                      3  \n",
       "4                      2  "
      ]
     },
     "execution_count": 18,
     "metadata": {},
     "output_type": "execute_result"
    }
   ],
   "source": [
    "train_data_classification.head()"
   ]
  },
  {
   "cell_type": "markdown",
   "id": "4abe88e6",
   "metadata": {},
   "source": [
    "Splitting Data"
   ]
  },
  {
   "cell_type": "code",
   "execution_count": 23,
   "id": "12c17fbb",
   "metadata": {},
   "outputs": [
    {
     "ename": "KeyError",
     "evalue": "'term_deposit_subscribed'",
     "output_type": "error",
     "traceback": [
      "\u001b[1;31m---------------------------------------------------------------------------\u001b[0m",
      "\u001b[1;31mKeyError\u001b[0m                                  Traceback (most recent call last)",
      "File \u001b[1;32mc:\\Users\\MSI\\AppData\\Local\\Programs\\Python\\Python312\\Lib\\site-packages\\pandas\\core\\indexes\\base.py:3790\u001b[0m, in \u001b[0;36mIndex.get_loc\u001b[1;34m(self, key)\u001b[0m\n\u001b[0;32m   3789\u001b[0m \u001b[38;5;28;01mtry\u001b[39;00m:\n\u001b[1;32m-> 3790\u001b[0m     \u001b[38;5;28;01mreturn\u001b[39;00m \u001b[38;5;28;43mself\u001b[39;49m\u001b[38;5;241;43m.\u001b[39;49m\u001b[43m_engine\u001b[49m\u001b[38;5;241;43m.\u001b[39;49m\u001b[43mget_loc\u001b[49m\u001b[43m(\u001b[49m\u001b[43mcasted_key\u001b[49m\u001b[43m)\u001b[49m\n\u001b[0;32m   3791\u001b[0m \u001b[38;5;28;01mexcept\u001b[39;00m \u001b[38;5;167;01mKeyError\u001b[39;00m \u001b[38;5;28;01mas\u001b[39;00m err:\n",
      "File \u001b[1;32mindex.pyx:152\u001b[0m, in \u001b[0;36mpandas._libs.index.IndexEngine.get_loc\u001b[1;34m()\u001b[0m\n",
      "File \u001b[1;32mindex.pyx:181\u001b[0m, in \u001b[0;36mpandas._libs.index.IndexEngine.get_loc\u001b[1;34m()\u001b[0m\n",
      "File \u001b[1;32mpandas\\_libs\\hashtable_class_helper.pxi:7080\u001b[0m, in \u001b[0;36mpandas._libs.hashtable.PyObjectHashTable.get_item\u001b[1;34m()\u001b[0m\n",
      "File \u001b[1;32mpandas\\_libs\\hashtable_class_helper.pxi:7088\u001b[0m, in \u001b[0;36mpandas._libs.hashtable.PyObjectHashTable.get_item\u001b[1;34m()\u001b[0m\n",
      "\u001b[1;31mKeyError\u001b[0m: 'term_deposit_subscribed'",
      "\nThe above exception was the direct cause of the following exception:\n",
      "\u001b[1;31mKeyError\u001b[0m                                  Traceback (most recent call last)",
      "Cell \u001b[1;32mIn[23], line 1\u001b[0m\n\u001b[1;32m----> 1\u001b[0m y \u001b[38;5;241m=\u001b[39m \u001b[43mtrain_data_classification\u001b[49m\u001b[43m[\u001b[49m\u001b[38;5;124;43m'\u001b[39;49m\u001b[38;5;124;43mterm_deposit_subscribed\u001b[39;49m\u001b[38;5;124;43m'\u001b[39;49m\u001b[43m]\u001b[49m\n\u001b[0;32m      2\u001b[0m X \u001b[38;5;241m=\u001b[39m train_data_classification\u001b[38;5;241m.\u001b[39mdrop(\u001b[38;5;124m'\u001b[39m\u001b[38;5;124mterm_deposit_subscribed\u001b[39m\u001b[38;5;124m'\u001b[39m,axis\u001b[38;5;241m=\u001b[39m\u001b[38;5;241m1\u001b[39m)\n\u001b[0;32m      4\u001b[0m X_Train,X_Test,y_Train,y_Test \u001b[38;5;241m=\u001b[39m train_test_split(X,y,test_size\u001b[38;5;241m=\u001b[39m\u001b[38;5;241m0.25\u001b[39m,stratify\u001b[38;5;241m=\u001b[39my,random_state\u001b[38;5;241m=\u001b[39m\u001b[38;5;241m42\u001b[39m)\n",
      "File \u001b[1;32mc:\\Users\\MSI\\AppData\\Local\\Programs\\Python\\Python312\\Lib\\site-packages\\pandas\\core\\frame.py:3896\u001b[0m, in \u001b[0;36mDataFrame.__getitem__\u001b[1;34m(self, key)\u001b[0m\n\u001b[0;32m   3894\u001b[0m \u001b[38;5;28;01mif\u001b[39;00m \u001b[38;5;28mself\u001b[39m\u001b[38;5;241m.\u001b[39mcolumns\u001b[38;5;241m.\u001b[39mnlevels \u001b[38;5;241m>\u001b[39m \u001b[38;5;241m1\u001b[39m:\n\u001b[0;32m   3895\u001b[0m     \u001b[38;5;28;01mreturn\u001b[39;00m \u001b[38;5;28mself\u001b[39m\u001b[38;5;241m.\u001b[39m_getitem_multilevel(key)\n\u001b[1;32m-> 3896\u001b[0m indexer \u001b[38;5;241m=\u001b[39m \u001b[38;5;28;43mself\u001b[39;49m\u001b[38;5;241;43m.\u001b[39;49m\u001b[43mcolumns\u001b[49m\u001b[38;5;241;43m.\u001b[39;49m\u001b[43mget_loc\u001b[49m\u001b[43m(\u001b[49m\u001b[43mkey\u001b[49m\u001b[43m)\u001b[49m\n\u001b[0;32m   3897\u001b[0m \u001b[38;5;28;01mif\u001b[39;00m is_integer(indexer):\n\u001b[0;32m   3898\u001b[0m     indexer \u001b[38;5;241m=\u001b[39m [indexer]\n",
      "File \u001b[1;32mc:\\Users\\MSI\\AppData\\Local\\Programs\\Python\\Python312\\Lib\\site-packages\\pandas\\core\\indexes\\base.py:3797\u001b[0m, in \u001b[0;36mIndex.get_loc\u001b[1;34m(self, key)\u001b[0m\n\u001b[0;32m   3792\u001b[0m     \u001b[38;5;28;01mif\u001b[39;00m \u001b[38;5;28misinstance\u001b[39m(casted_key, \u001b[38;5;28mslice\u001b[39m) \u001b[38;5;129;01mor\u001b[39;00m (\n\u001b[0;32m   3793\u001b[0m         \u001b[38;5;28misinstance\u001b[39m(casted_key, abc\u001b[38;5;241m.\u001b[39mIterable)\n\u001b[0;32m   3794\u001b[0m         \u001b[38;5;129;01mand\u001b[39;00m \u001b[38;5;28many\u001b[39m(\u001b[38;5;28misinstance\u001b[39m(x, \u001b[38;5;28mslice\u001b[39m) \u001b[38;5;28;01mfor\u001b[39;00m x \u001b[38;5;129;01min\u001b[39;00m casted_key)\n\u001b[0;32m   3795\u001b[0m     ):\n\u001b[0;32m   3796\u001b[0m         \u001b[38;5;28;01mraise\u001b[39;00m InvalidIndexError(key)\n\u001b[1;32m-> 3797\u001b[0m     \u001b[38;5;28;01mraise\u001b[39;00m \u001b[38;5;167;01mKeyError\u001b[39;00m(key) \u001b[38;5;28;01mfrom\u001b[39;00m \u001b[38;5;21;01merr\u001b[39;00m\n\u001b[0;32m   3798\u001b[0m \u001b[38;5;28;01mexcept\u001b[39;00m \u001b[38;5;167;01mTypeError\u001b[39;00m:\n\u001b[0;32m   3799\u001b[0m     \u001b[38;5;66;03m# If we have a listlike key, _check_indexing_error will raise\u001b[39;00m\n\u001b[0;32m   3800\u001b[0m     \u001b[38;5;66;03m#  InvalidIndexError. Otherwise we fall through and re-raise\u001b[39;00m\n\u001b[0;32m   3801\u001b[0m     \u001b[38;5;66;03m#  the TypeError.\u001b[39;00m\n\u001b[0;32m   3802\u001b[0m     \u001b[38;5;28mself\u001b[39m\u001b[38;5;241m.\u001b[39m_check_indexing_error(key)\n",
      "\u001b[1;31mKeyError\u001b[0m: 'term_deposit_subscribed'"
     ]
    }
   ],
   "source": [
    "y = train_data_classification['term_deposit_subscribed']\n",
    "X = train_data_classification.drop('term_deposit_subscribed',axis=1)\n",
    "\n",
    "X_Train,X_Test,y_Train,y_Test = train_test_split(X,y,test_size=0.25,stratify=y,random_state=42)\n",
    "print (X_Train.shape)\n",
    "print (y_Train.shape)\n",
    "print (X_Test.shape)\n",
    "print (y_Test.shape)"
   ]
  },
  {
   "cell_type": "code",
   "execution_count": null,
   "id": "dbb62fa2",
   "metadata": {},
   "outputs": [],
   "source": []
  },
  {
   "cell_type": "code",
   "execution_count": 20,
   "id": "306e2208",
   "metadata": {},
   "outputs": [
    {
     "name": "stdout",
     "output_type": "stream",
     "text": [
      "Index(['job_type', 'marital', 'education', 'default', 'housing_loan',\n",
      "       'personal_loan', 'communication_type', 'day_of_month', 'month',\n",
      "       'num_contacts_prev_campaign', 'prev_campaign_outcome'],\n",
      "      dtype='object')\n"
     ]
    }
   ],
   "source": [
    "print(train_data_classification.columns)"
   ]
  },
  {
   "cell_type": "markdown",
   "id": "c92ecff8",
   "metadata": {},
   "source": [
    "IMPORT DATA - Non-Profit Funding in the EU (Classification)\n",
    "\n",
    "https://www.kaggle.com/datasets/sarmitamajumdar/finding-donors-for-a-charity/data"
   ]
  },
  {
   "cell_type": "markdown",
   "id": "591d9e54",
   "metadata": {},
   "source": []
  }
 ],
 "metadata": {
  "kernelspec": {
   "display_name": "Python 3",
   "language": "python",
   "name": "python3"
  },
  "language_info": {
   "codemirror_mode": {
    "name": "ipython",
    "version": 3
   },
   "file_extension": ".py",
   "mimetype": "text/x-python",
   "name": "python",
   "nbconvert_exporter": "python",
   "pygments_lexer": "ipython3",
   "version": "3.12.0"
  }
 },
 "nbformat": 4,
 "nbformat_minor": 5
}
