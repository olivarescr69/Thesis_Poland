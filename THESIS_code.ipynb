{
 "cells": [
  {
   "cell_type": "code",
   "execution_count": 34,
   "id": "8f0015ec",
   "metadata": {},
   "outputs": [
    {
     "name": "stdout",
     "output_type": "stream",
     "text": [
      "Requirement already satisfied: scikit-plot in c:\\users\\msi\\appdata\\local\\programs\\python\\python312\\lib\\site-packages (0.3.7)\n",
      "Requirement already satisfied: matplotlib>=1.4.0 in c:\\users\\msi\\appdata\\local\\programs\\python\\python312\\lib\\site-packages (from scikit-plot) (3.8.2)\n",
      "Requirement already satisfied: scikit-learn>=0.18 in c:\\users\\msi\\appdata\\local\\programs\\python\\python312\\lib\\site-packages (from scikit-plot) (1.3.2)\n",
      "Requirement already satisfied: scipy>=0.9 in c:\\users\\msi\\appdata\\local\\programs\\python\\python312\\lib\\site-packages (from scikit-plot) (1.11.3)\n",
      "Requirement already satisfied: joblib>=0.10 in c:\\users\\msi\\appdata\\local\\programs\\python\\python312\\lib\\site-packages (from scikit-plot) (1.3.2)\n",
      "Requirement already satisfied: contourpy>=1.0.1 in c:\\users\\msi\\appdata\\local\\programs\\python\\python312\\lib\\site-packages (from matplotlib>=1.4.0->scikit-plot) (1.2.0)\n",
      "Requirement already satisfied: cycler>=0.10 in c:\\users\\msi\\appdata\\local\\programs\\python\\python312\\lib\\site-packages (from matplotlib>=1.4.0->scikit-plot) (0.12.1)\n",
      "Requirement already satisfied: fonttools>=4.22.0 in c:\\users\\msi\\appdata\\local\\programs\\python\\python312\\lib\\site-packages (from matplotlib>=1.4.0->scikit-plot) (4.45.0)\n",
      "Requirement already satisfied: kiwisolver>=1.3.1 in c:\\users\\msi\\appdata\\local\\programs\\python\\python312\\lib\\site-packages (from matplotlib>=1.4.0->scikit-plot) (1.4.5)\n",
      "Requirement already satisfied: numpy<2,>=1.21 in c:\\users\\msi\\appdata\\local\\programs\\python\\python312\\lib\\site-packages (from matplotlib>=1.4.0->scikit-plot) (1.26.1)\n",
      "Requirement already satisfied: packaging>=20.0 in c:\\users\\msi\\appdata\\local\\programs\\python\\python312\\lib\\site-packages (from matplotlib>=1.4.0->scikit-plot) (21.3)\n",
      "Requirement already satisfied: pillow>=8 in c:\\users\\msi\\appdata\\local\\programs\\python\\python312\\lib\\site-packages (from matplotlib>=1.4.0->scikit-plot) (10.1.0)\n",
      "Requirement already satisfied: pyparsing>=2.3.1 in c:\\users\\msi\\appdata\\local\\programs\\python\\python312\\lib\\site-packages (from matplotlib>=1.4.0->scikit-plot) (3.1.1)\n",
      "Requirement already satisfied: python-dateutil>=2.7 in c:\\users\\msi\\appdata\\local\\programs\\python\\python312\\lib\\site-packages (from matplotlib>=1.4.0->scikit-plot) (2.8.2)\n",
      "Requirement already satisfied: threadpoolctl>=2.0.0 in c:\\users\\msi\\appdata\\local\\programs\\python\\python312\\lib\\site-packages (from scikit-learn>=0.18->scikit-plot) (3.2.0)\n",
      "Requirement already satisfied: six>=1.5 in c:\\users\\msi\\appdata\\local\\programs\\python\\python312\\lib\\site-packages (from python-dateutil>=2.7->matplotlib>=1.4.0->scikit-plot) (1.16.0)\n"
     ]
    },
    {
     "name": "stderr",
     "output_type": "stream",
     "text": [
      "\n",
      "[notice] A new release of pip is available: 24.0 -> 25.1\n",
      "[notice] To update, run: python.exe -m pip install --upgrade pip\n"
     ]
    },
    {
     "name": "stdout",
     "output_type": "stream",
     "text": [
      "Requirement already satisfied: kaggle in c:\\users\\msi\\appdata\\local\\programs\\python\\python312\\lib\\site-packages (1.6.17)\n",
      "Requirement already satisfied: six>=1.10 in c:\\users\\msi\\appdata\\local\\programs\\python\\python312\\lib\\site-packages (from kaggle) (1.16.0)\n",
      "Requirement already satisfied: certifi>=2023.7.22 in c:\\users\\msi\\appdata\\local\\programs\\python\\python312\\lib\\site-packages (from kaggle) (2024.2.2)\n",
      "Requirement already satisfied: python-dateutil in c:\\users\\msi\\appdata\\local\\programs\\python\\python312\\lib\\site-packages (from kaggle) (2.8.2)\n",
      "Requirement already satisfied: requests in c:\\users\\msi\\appdata\\local\\programs\\python\\python312\\lib\\site-packages (from kaggle) (2.31.0)\n",
      "Requirement already satisfied: tqdm in c:\\users\\msi\\appdata\\local\\programs\\python\\python312\\lib\\site-packages (from kaggle) (4.66.2)\n",
      "Requirement already satisfied: python-slugify in c:\\users\\msi\\appdata\\local\\programs\\python\\python312\\lib\\site-packages (from kaggle) (8.0.4)\n",
      "Requirement already satisfied: urllib3 in c:\\users\\msi\\appdata\\local\\programs\\python\\python312\\lib\\site-packages (from kaggle) (2.2.1)\n",
      "Requirement already satisfied: bleach in c:\\users\\msi\\appdata\\local\\programs\\python\\python312\\lib\\site-packages (from kaggle) (1.5.0)\n",
      "Requirement already satisfied: html5lib!=0.9999,!=0.99999,<0.99999999,>=0.999 in c:\\users\\msi\\appdata\\local\\programs\\python\\python312\\lib\\site-packages (from bleach->kaggle) (0.9999999)\n",
      "Requirement already satisfied: text-unidecode>=1.3 in c:\\users\\msi\\appdata\\local\\programs\\python\\python312\\lib\\site-packages (from python-slugify->kaggle) (1.3)\n",
      "Requirement already satisfied: charset-normalizer<4,>=2 in c:\\users\\msi\\appdata\\local\\programs\\python\\python312\\lib\\site-packages (from requests->kaggle) (3.3.2)\n",
      "Requirement already satisfied: idna<4,>=2.5 in c:\\users\\msi\\appdata\\local\\programs\\python\\python312\\lib\\site-packages (from requests->kaggle) (3.6)\n",
      "Requirement already satisfied: colorama in c:\\users\\msi\\appdata\\roaming\\python\\python312\\site-packages (from tqdm->kaggle) (0.4.6)\n"
     ]
    },
    {
     "name": "stderr",
     "output_type": "stream",
     "text": [
      "\n",
      "[notice] A new release of pip is available: 24.0 -> 25.1\n",
      "[notice] To update, run: python.exe -m pip install --upgrade pip\n",
      "\n",
      "[notice] A new release of pip is available: 24.0 -> 25.1\n",
      "[notice] To update, run: python.exe -m pip install --upgrade pip\n"
     ]
    },
    {
     "name": "stdout",
     "output_type": "stream",
     "text": [
      "Requirement already satisfied: kagglehub in c:\\users\\msi\\appdata\\local\\programs\\python\\python312\\lib\\site-packages (0.2.1)\n",
      "Collecting kagglehub\n",
      "  Downloading kagglehub-0.3.12-py3-none-any.whl.metadata (38 kB)\n",
      "Requirement already satisfied: packaging in c:\\users\\msi\\appdata\\local\\programs\\python\\python312\\lib\\site-packages (from kagglehub) (21.3)\n",
      "Requirement already satisfied: pyyaml in c:\\users\\msi\\appdata\\local\\programs\\python\\python312\\lib\\site-packages (from kagglehub) (6.0.1)\n",
      "Requirement already satisfied: requests in c:\\users\\msi\\appdata\\local\\programs\\python\\python312\\lib\\site-packages (from kagglehub) (2.31.0)\n",
      "Requirement already satisfied: tqdm in c:\\users\\msi\\appdata\\local\\programs\\python\\python312\\lib\\site-packages (from kagglehub) (4.66.2)\n",
      "Requirement already satisfied: pyparsing!=3.0.5,>=2.0.2 in c:\\users\\msi\\appdata\\local\\programs\\python\\python312\\lib\\site-packages (from packaging->kagglehub) (3.1.1)\n",
      "Requirement already satisfied: charset-normalizer<4,>=2 in c:\\users\\msi\\appdata\\local\\programs\\python\\python312\\lib\\site-packages (from requests->kagglehub) (3.3.2)\n",
      "Requirement already satisfied: idna<4,>=2.5 in c:\\users\\msi\\appdata\\local\\programs\\python\\python312\\lib\\site-packages (from requests->kagglehub) (3.6)\n",
      "Requirement already satisfied: urllib3<3,>=1.21.1 in c:\\users\\msi\\appdata\\local\\programs\\python\\python312\\lib\\site-packages (from requests->kagglehub) (2.2.1)\n",
      "Requirement already satisfied: certifi>=2017.4.17 in c:\\users\\msi\\appdata\\local\\programs\\python\\python312\\lib\\site-packages (from requests->kagglehub) (2024.2.2)\n",
      "Requirement already satisfied: colorama in c:\\users\\msi\\appdata\\roaming\\python\\python312\\site-packages (from tqdm->kagglehub) (0.4.6)\n",
      "Downloading kagglehub-0.3.12-py3-none-any.whl (67 kB)\n",
      "   ---------------------------------------- 0.0/68.0 kB ? eta -:--:--\n",
      "   ------------------------------------ --- 61.4/68.0 kB 1.7 MB/s eta 0:00:01\n",
      "   ---------------------------------------- 68.0/68.0 kB 1.2 MB/s eta 0:00:00\n",
      "Installing collected packages: kagglehub\n",
      "  Attempting uninstall: kagglehub\n",
      "    Found existing installation: kagglehub 0.2.1\n",
      "    Uninstalling kagglehub-0.2.1:\n",
      "      Successfully uninstalled kagglehub-0.2.1\n",
      "Successfully installed kagglehub-0.3.12\n"
     ]
    }
   ],
   "source": [
    "!pip install scikit-plot\n",
    "!pip install kaggle\n",
    "!pip install kagglehub --upgrade"
   ]
  },
  {
   "cell_type": "markdown",
   "id": "308cecc9",
   "metadata": {
    "slideshow": {
     "slide_type": "slide"
    }
   },
   "source": [
    "# REGRESSION MODEL"
   ]
  },
  {
   "cell_type": "markdown",
   "id": "8d817a20",
   "metadata": {},
   "source": [
    "#### Import Libraries"
   ]
  },
  {
   "cell_type": "code",
   "execution_count": 23,
   "id": "f9e0dff7",
   "metadata": {},
   "outputs": [],
   "source": [
    "import pandas as pd\n",
    "import numpy as np\n",
    "import matplotlib.pyplot as plt\n",
    "import seaborn as sns\n",
    "from sklearn.impute import SimpleImputer\n",
    "from datetime import datetime\n",
    "from sklearn.preprocessing import LabelEncoder\n",
    "from sklearn.model_selection import train_test_split\n",
    "from sklearn import metrics\n",
    "from sklearn.metrics import roc_auc_score,roc_curve,auc\n",
    "from sklearn.ensemble import RandomForestClassifier,RandomForestRegressor\n",
    "import scikitplot as skplt\n",
    "from scipy.stats import skew\n",
    "import kagglehub"
   ]
  },
  {
   "cell_type": "markdown",
   "id": "818d1f2f",
   "metadata": {},
   "source": [
    "#### Import Data - Public Funding and Donations to UK Political Parties (Regression)\n",
    "\n",
    "https://www.kaggle.com/datasets/thedevastator/donations-accepted-by-political-parties-in-the-u\n",
    "\n"
   ]
  },
  {
   "cell_type": "code",
   "execution_count": 24,
   "id": "7c690931",
   "metadata": {},
   "outputs": [
    {
     "name": "stdout",
     "output_type": "stream",
     "text": [
      "Dataset Info:\n",
      "<class 'pandas.core.frame.DataFrame'>\n",
      "RangeIndex: 65278 entries, 0 to 65277\n",
      "Data columns (total 30 columns):\n",
      " #   Column                         Non-Null Count  Dtype  \n",
      "---  ------                         --------------  -----  \n",
      " 0   index                          65278 non-null  int64  \n",
      " 1   ECRef                          65278 non-null  object \n",
      " 2   RegulatedEntityName            65278 non-null  object \n",
      " 3   RegulatedEntityType            65278 non-null  object \n",
      " 4   Value                          65278 non-null  object \n",
      " 5   AcceptedDate                   64265 non-null  object \n",
      " 6   AccountingUnitName             56957 non-null  object \n",
      " 7   DonorName                      65193 non-null  object \n",
      " 8   AccountingUnitsAsCentralParty  65278 non-null  bool   \n",
      " 9   IsSponsorship                  65278 non-null  bool   \n",
      " 10  DonorStatus                    65220 non-null  object \n",
      " 11  RegulatedDoneeType             7090 non-null   object \n",
      " 12  CompanyRegistrationNumber      11480 non-null  object \n",
      " 13  Postcode                       35013 non-null  object \n",
      " 14  DonationType                   65278 non-null  object \n",
      " 15  NatureOfDonation               10104 non-null  object \n",
      " 16  PurposeOfVisit                 2634 non-null   object \n",
      " 17  DonationAction                 283 non-null    object \n",
      " 18  ReceivedDate                   62515 non-null  object \n",
      " 19  ReportedDate                   65257 non-null  object \n",
      " 20  IsReportedPrePoll              48936 non-null  object \n",
      " 21  ReportingPeriodName            65278 non-null  object \n",
      " 22  IsBequest                      65278 non-null  bool   \n",
      " 23  IsAggregation                  65278 non-null  bool   \n",
      " 24  RegulatedEntityId              65278 non-null  int64  \n",
      " 25  AccountingUnitId               36355 non-null  float64\n",
      " 26  DonorId                        65197 non-null  float64\n",
      " 27  CampaigningName                5 non-null      object \n",
      " 28  RegisterName                   64047 non-null  object \n",
      " 29  IsIrishSource                  64557 non-null  object \n",
      "dtypes: bool(4), float64(2), int64(2), object(22)\n",
      "memory usage: 13.2+ MB\n",
      "None\n",
      "\n",
      "Column Names:\n",
      "Index(['index', 'ECRef', 'RegulatedEntityName', 'RegulatedEntityType', 'Value',\n",
      "       'AcceptedDate', 'AccountingUnitName', 'DonorName',\n",
      "       'AccountingUnitsAsCentralParty', 'IsSponsorship', 'DonorStatus',\n",
      "       'RegulatedDoneeType', 'CompanyRegistrationNumber', 'Postcode',\n",
      "       'DonationType', 'NatureOfDonation', 'PurposeOfVisit', 'DonationAction',\n",
      "       'ReceivedDate', 'ReportedDate', 'IsReportedPrePoll',\n",
      "       'ReportingPeriodName', 'IsBequest', 'IsAggregation',\n",
      "       'RegulatedEntityId', 'AccountingUnitId', 'DonorId', 'CampaigningName',\n",
      "       'RegisterName', 'IsIrishSource'],\n",
      "      dtype='object')\n"
     ]
    },
    {
     "name": "stderr",
     "output_type": "stream",
     "text": [
      "C:\\Users\\MSI\\AppData\\Local\\Temp\\ipykernel_15256\\916651770.py:5: DtypeWarning: Columns (17) have mixed types. Specify dtype option on import or set low_memory=False.\n",
      "  data = pd.read_csv(csv_path)\n"
     ]
    }
   ],
   "source": [
    "# Path to your CSV file\n",
    "csv_path = r\"C:\\Users\\MSI\\OneDrive\\1. BiG_dAtA_Master_Degree\\thesis\\Code\\Data\\Regression\\Donations accepted by political parties.csv\"\n",
    "\n",
    "# Load the CSV\n",
    "data = pd.read_csv(csv_path)\n",
    "\n",
    "# Display basic information\n",
    "print(\"Dataset Info:\")\n",
    "print(data.info())\n",
    "print(\"\\nColumn Names:\")\n",
    "print(data.columns)"
   ]
  },
  {
   "cell_type": "code",
   "execution_count": 25,
   "id": "96fd65d2",
   "metadata": {},
   "outputs": [
    {
     "name": "stdout",
     "output_type": "stream",
     "text": [
      "\n",
      "Column Names:\n",
      "Index(['index', 'ECRef', 'RegulatedEntityName', 'RegulatedEntityType', 'Value',\n",
      "       'AcceptedDate', 'AccountingUnitName', 'DonorName',\n",
      "       'AccountingUnitsAsCentralParty', 'IsSponsorship', 'DonorStatus',\n",
      "       'RegulatedDoneeType', 'CompanyRegistrationNumber', 'Postcode',\n",
      "       'DonationType', 'NatureOfDonation', 'PurposeOfVisit', 'DonationAction',\n",
      "       'ReceivedDate', 'ReportedDate', 'IsReportedPrePoll',\n",
      "       'ReportingPeriodName', 'IsBequest', 'IsAggregation',\n",
      "       'RegulatedEntityId', 'AccountingUnitId', 'DonorId', 'CampaigningName',\n",
      "       'RegisterName', 'IsIrishSource'],\n",
      "      dtype='object')\n"
     ]
    }
   ],
   "source": [
    "print(\"\\nColumn Names:\")\n",
    "print(data.columns)"
   ]
  },
  {
   "cell_type": "code",
   "execution_count": 26,
   "id": "44f998d3",
   "metadata": {},
   "outputs": [
    {
     "data": {
      "text/html": [
       "<div>\n",
       "<style scoped>\n",
       "    .dataframe tbody tr th:only-of-type {\n",
       "        vertical-align: middle;\n",
       "    }\n",
       "\n",
       "    .dataframe tbody tr th {\n",
       "        vertical-align: top;\n",
       "    }\n",
       "\n",
       "    .dataframe thead th {\n",
       "        text-align: right;\n",
       "    }\n",
       "</style>\n",
       "<table border=\"1\" class=\"dataframe\">\n",
       "  <thead>\n",
       "    <tr style=\"text-align: right;\">\n",
       "      <th></th>\n",
       "      <th>index</th>\n",
       "      <th>ECRef</th>\n",
       "      <th>RegulatedEntityName</th>\n",
       "      <th>RegulatedEntityType</th>\n",
       "      <th>Value</th>\n",
       "      <th>AcceptedDate</th>\n",
       "      <th>AccountingUnitName</th>\n",
       "      <th>DonorName</th>\n",
       "      <th>AccountingUnitsAsCentralParty</th>\n",
       "      <th>IsSponsorship</th>\n",
       "      <th>...</th>\n",
       "      <th>IsReportedPrePoll</th>\n",
       "      <th>ReportingPeriodName</th>\n",
       "      <th>IsBequest</th>\n",
       "      <th>IsAggregation</th>\n",
       "      <th>RegulatedEntityId</th>\n",
       "      <th>AccountingUnitId</th>\n",
       "      <th>DonorId</th>\n",
       "      <th>CampaigningName</th>\n",
       "      <th>RegisterName</th>\n",
       "      <th>IsIrishSource</th>\n",
       "    </tr>\n",
       "  </thead>\n",
       "  <tbody>\n",
       "    <tr>\n",
       "      <th>0</th>\n",
       "      <td>0</td>\n",
       "      <td>NC0408174</td>\n",
       "      <td>Mr Andy Street</td>\n",
       "      <td>Regulated Donee</td>\n",
       "      <td>£1,876.56</td>\n",
       "      <td>02/09/2019</td>\n",
       "      <td>NaN</td>\n",
       "      <td>Conservative and Unionist Party</td>\n",
       "      <td>False</td>\n",
       "      <td>False</td>\n",
       "      <td>...</td>\n",
       "      <td>NaN</td>\n",
       "      <td>September 2019</td>\n",
       "      <td>False</td>\n",
       "      <td>False</td>\n",
       "      <td>8015</td>\n",
       "      <td>NaN</td>\n",
       "      <td>86310.0</td>\n",
       "      <td>NaN</td>\n",
       "      <td>Great Britain</td>\n",
       "      <td>False</td>\n",
       "    </tr>\n",
       "    <tr>\n",
       "      <th>1</th>\n",
       "      <td>1</td>\n",
       "      <td>NC0408173</td>\n",
       "      <td>Mr Andy Street</td>\n",
       "      <td>Regulated Donee</td>\n",
       "      <td>£2,700.00</td>\n",
       "      <td>02/09/2019</td>\n",
       "      <td>NaN</td>\n",
       "      <td>Conservative and Unionist Party</td>\n",
       "      <td>False</td>\n",
       "      <td>False</td>\n",
       "      <td>...</td>\n",
       "      <td>NaN</td>\n",
       "      <td>September 2019</td>\n",
       "      <td>False</td>\n",
       "      <td>False</td>\n",
       "      <td>8015</td>\n",
       "      <td>NaN</td>\n",
       "      <td>86310.0</td>\n",
       "      <td>NaN</td>\n",
       "      <td>Great Britain</td>\n",
       "      <td>False</td>\n",
       "    </tr>\n",
       "    <tr>\n",
       "      <th>2</th>\n",
       "      <td>2</td>\n",
       "      <td>NC0408177</td>\n",
       "      <td>Mr Andy Street</td>\n",
       "      <td>Regulated Donee</td>\n",
       "      <td>£4,852.58</td>\n",
       "      <td>30/08/2019</td>\n",
       "      <td>NaN</td>\n",
       "      <td>Conservative and Unionist Party</td>\n",
       "      <td>False</td>\n",
       "      <td>False</td>\n",
       "      <td>...</td>\n",
       "      <td>NaN</td>\n",
       "      <td>September 2019</td>\n",
       "      <td>False</td>\n",
       "      <td>False</td>\n",
       "      <td>8015</td>\n",
       "      <td>NaN</td>\n",
       "      <td>86310.0</td>\n",
       "      <td>NaN</td>\n",
       "      <td>Great Britain</td>\n",
       "      <td>False</td>\n",
       "    </tr>\n",
       "    <tr>\n",
       "      <th>3</th>\n",
       "      <td>3</td>\n",
       "      <td>NC0408176</td>\n",
       "      <td>Mr Andy Street</td>\n",
       "      <td>Regulated Donee</td>\n",
       "      <td>£2,500.00</td>\n",
       "      <td>30/08/2019</td>\n",
       "      <td>NaN</td>\n",
       "      <td>Conservative and Unionist Party</td>\n",
       "      <td>False</td>\n",
       "      <td>False</td>\n",
       "      <td>...</td>\n",
       "      <td>NaN</td>\n",
       "      <td>September 2019</td>\n",
       "      <td>False</td>\n",
       "      <td>False</td>\n",
       "      <td>8015</td>\n",
       "      <td>NaN</td>\n",
       "      <td>86310.0</td>\n",
       "      <td>NaN</td>\n",
       "      <td>Great Britain</td>\n",
       "      <td>False</td>\n",
       "    </tr>\n",
       "    <tr>\n",
       "      <th>4</th>\n",
       "      <td>4</td>\n",
       "      <td>NC0408170</td>\n",
       "      <td>Mr Andy Street</td>\n",
       "      <td>Regulated Donee</td>\n",
       "      <td>£4,524.05</td>\n",
       "      <td>29/08/2019</td>\n",
       "      <td>NaN</td>\n",
       "      <td>Conservative and Unionist Party</td>\n",
       "      <td>False</td>\n",
       "      <td>False</td>\n",
       "      <td>...</td>\n",
       "      <td>NaN</td>\n",
       "      <td>September 2019</td>\n",
       "      <td>False</td>\n",
       "      <td>False</td>\n",
       "      <td>8015</td>\n",
       "      <td>NaN</td>\n",
       "      <td>86310.0</td>\n",
       "      <td>NaN</td>\n",
       "      <td>Great Britain</td>\n",
       "      <td>False</td>\n",
       "    </tr>\n",
       "  </tbody>\n",
       "</table>\n",
       "<p>5 rows × 30 columns</p>\n",
       "</div>"
      ],
      "text/plain": [
       "   index      ECRef RegulatedEntityName RegulatedEntityType      Value  \\\n",
       "0      0  NC0408174      Mr Andy Street     Regulated Donee  £1,876.56   \n",
       "1      1  NC0408173      Mr Andy Street     Regulated Donee  £2,700.00   \n",
       "2      2  NC0408177      Mr Andy Street     Regulated Donee  £4,852.58   \n",
       "3      3  NC0408176      Mr Andy Street     Regulated Donee  £2,500.00   \n",
       "4      4  NC0408170      Mr Andy Street     Regulated Donee  £4,524.05   \n",
       "\n",
       "  AcceptedDate AccountingUnitName                        DonorName  \\\n",
       "0   02/09/2019                NaN  Conservative and Unionist Party   \n",
       "1   02/09/2019                NaN  Conservative and Unionist Party   \n",
       "2   30/08/2019                NaN  Conservative and Unionist Party   \n",
       "3   30/08/2019                NaN  Conservative and Unionist Party   \n",
       "4   29/08/2019                NaN  Conservative and Unionist Party   \n",
       "\n",
       "   AccountingUnitsAsCentralParty  IsSponsorship  ... IsReportedPrePoll  \\\n",
       "0                          False          False  ...               NaN   \n",
       "1                          False          False  ...               NaN   \n",
       "2                          False          False  ...               NaN   \n",
       "3                          False          False  ...               NaN   \n",
       "4                          False          False  ...               NaN   \n",
       "\n",
       "  ReportingPeriodName IsBequest IsAggregation RegulatedEntityId  \\\n",
       "0      September 2019     False         False              8015   \n",
       "1      September 2019     False         False              8015   \n",
       "2      September 2019     False         False              8015   \n",
       "3      September 2019     False         False              8015   \n",
       "4      September 2019     False         False              8015   \n",
       "\n",
       "  AccountingUnitId  DonorId CampaigningName   RegisterName IsIrishSource  \n",
       "0              NaN  86310.0             NaN  Great Britain         False  \n",
       "1              NaN  86310.0             NaN  Great Britain         False  \n",
       "2              NaN  86310.0             NaN  Great Britain         False  \n",
       "3              NaN  86310.0             NaN  Great Britain         False  \n",
       "4              NaN  86310.0             NaN  Great Britain         False  \n",
       "\n",
       "[5 rows x 30 columns]"
      ]
     },
     "execution_count": 26,
     "metadata": {},
     "output_type": "execute_result"
    }
   ],
   "source": [
    "data.head()"
   ]
  },
  {
   "cell_type": "markdown",
   "id": "a89e7318",
   "metadata": {},
   "source": [
    "### EXPLORATION AND CLEANING DATA"
   ]
  },
  {
   "cell_type": "markdown",
   "id": "de37d0eb",
   "metadata": {},
   "source": [
    "###### Summary of Excluded Columns\n",
    "- ###### Identifiers: index, ECRef, RegulatedEntityId, AccountingUnitId, DonorId – No predictive value, only unique identifiers.\n",
    "- ###### High Missing Rate: RegulatedDoneeType (~89%), CompanyRegistrationNumber (~82%), NatureOfDonation (~85%), PurposeOfVisit (~96%), DonationAction (~99.6%), CampaigningName (~99.99%) – Too many missing values, unusable.\n",
    "- ###### Redundant: AccountingUnitName (~13%, redundant with RegulatedEntityName), ReceivedDate (~4%, similar to AcceptedDate), ReportingPeriodName (redundant with AcceptedDate), Reported ReportedDate (administrative) – Duplicated or irrelevant information.\n",
    "- ###### High Cardinality: DonorName (unique names), RegulatedEntityName (1,384 values), Postcode (4,559 values) – Generate excessive dummy columns, increasing complexity and risk of overfitting.\n",
    "- ###### Low Variability: IsReportedPrePoll (only False), RegisterName (~90% Great Britain) – Do not provide predictive information."
   ]
  },
  {
   "cell_type": "code",
   "execution_count": 27,
   "id": "77cec604",
   "metadata": {},
   "outputs": [
    {
     "name": "stdout",
     "output_type": "stream",
     "text": [
      "             Value    RegulatedEntityType                 DonorStatus  \\\n",
      "0        £1,876.56        Regulated Donee  Registered Political Party   \n",
      "1        £2,700.00        Regulated Donee  Registered Political Party   \n",
      "2        £4,852.58        Regulated Donee  Registered Political Party   \n",
      "3        £2,500.00        Regulated Donee  Registered Political Party   \n",
      "4        £4,524.05        Regulated Donee  Registered Political Party   \n",
      "...            ...                    ...                         ...   \n",
      "65273   £10,000.00  Permitted Participant                     Company   \n",
      "65274  £100,000.00  Permitted Participant                  Individual   \n",
      "65275   £40,000.00  Permitted Participant                  Individual   \n",
      "65276   £50,000.00        Political Party                  Individual   \n",
      "65277   £15,000.00        Political Party                  Individual   \n",
      "\n",
      "      DonationType AcceptedDate  IsSponsorship  IsBequest  IsAggregation  \\\n",
      "0         Non Cash   02/09/2019          False      False          False   \n",
      "1         Non Cash   02/09/2019          False      False          False   \n",
      "2         Non Cash   30/08/2019          False      False          False   \n",
      "3         Non Cash   30/08/2019          False      False          False   \n",
      "4         Non Cash   29/08/2019          False      False          False   \n",
      "...            ...          ...            ...        ...            ...   \n",
      "65273         Cash          NaN          False      False          False   \n",
      "65274         Cash          NaN          False      False          False   \n",
      "65275         Cash          NaN          False      False          False   \n",
      "65276         Cash          NaN          False      False          False   \n",
      "65277         Cash          NaN          False      False          False   \n",
      "\n",
      "       AccountingUnitsAsCentralParty IsIrishSource  \n",
      "0                              False         False  \n",
      "1                              False         False  \n",
      "2                              False         False  \n",
      "3                              False         False  \n",
      "4                              False         False  \n",
      "...                              ...           ...  \n",
      "65273                          False         False  \n",
      "65274                          False         False  \n",
      "65275                          False         False  \n",
      "65276                          False         False  \n",
      "65277                          False         False  \n",
      "\n",
      "[65278 rows x 10 columns]\n"
     ]
    }
   ],
   "source": [
    "# Select definitive columns\n",
    "selected_columns = [\n",
    "    'Value', 'RegulatedEntityType', 'DonorStatus', 'DonationType', \n",
    "    'AcceptedDate', 'IsSponsorship', 'IsBequest', 'IsAggregation', \n",
    "    'AccountingUnitsAsCentralParty', 'IsIrishSource'\n",
    "    ]\n",
    "data_selected = data[selected_columns].copy()  # Create independent copy\n",
    "print(data_selected)"
   ]
  },
  {
   "cell_type": "code",
   "execution_count": 28,
   "id": "83b5f37f",
   "metadata": {},
   "outputs": [
    {
     "name": "stdout",
     "output_type": "stream",
     "text": [
      "           Value    RegulatedEntityType                 DonorStatus  \\\n",
      "0        1876.56        Regulated Donee  Registered Political Party   \n",
      "1        2700.00        Regulated Donee  Registered Political Party   \n",
      "2        4852.58        Regulated Donee  Registered Political Party   \n",
      "3        2500.00        Regulated Donee  Registered Political Party   \n",
      "4        4524.05        Regulated Donee  Registered Political Party   \n",
      "...          ...                    ...                         ...   \n",
      "65273   10000.00  Permitted Participant                     Company   \n",
      "65274  100000.00  Permitted Participant                  Individual   \n",
      "65275   40000.00  Permitted Participant                  Individual   \n",
      "65276   50000.00        Political Party                  Individual   \n",
      "65277   15000.00        Political Party                  Individual   \n",
      "\n",
      "      DonationType AcceptedDate  IsSponsorship  IsBequest  IsAggregation  \\\n",
      "0         Non Cash   02/09/2019          False      False          False   \n",
      "1         Non Cash   02/09/2019          False      False          False   \n",
      "2         Non Cash   30/08/2019          False      False          False   \n",
      "3         Non Cash   30/08/2019          False      False          False   \n",
      "4         Non Cash   29/08/2019          False      False          False   \n",
      "...            ...          ...            ...        ...            ...   \n",
      "65273         Cash          NaN          False      False          False   \n",
      "65274         Cash          NaN          False      False          False   \n",
      "65275         Cash          NaN          False      False          False   \n",
      "65276         Cash          NaN          False      False          False   \n",
      "65277         Cash          NaN          False      False          False   \n",
      "\n",
      "       AccountingUnitsAsCentralParty IsIrishSource  \n",
      "0                              False         False  \n",
      "1                              False         False  \n",
      "2                              False         False  \n",
      "3                              False         False  \n",
      "4                              False         False  \n",
      "...                              ...           ...  \n",
      "65273                          False         False  \n",
      "65274                          False         False  \n",
      "65275                          False         False  \n",
      "65276                          False         False  \n",
      "65277                          False         False  \n",
      "\n",
      "[65278 rows x 10 columns]\n",
      "NEW Dataset Info:\n",
      "<class 'pandas.core.frame.DataFrame'>\n",
      "RangeIndex: 65278 entries, 0 to 65277\n",
      "Data columns (total 10 columns):\n",
      " #   Column                         Non-Null Count  Dtype  \n",
      "---  ------                         --------------  -----  \n",
      " 0   Value                          65278 non-null  float64\n",
      " 1   RegulatedEntityType            65278 non-null  object \n",
      " 2   DonorStatus                    65220 non-null  object \n",
      " 3   DonationType                   65278 non-null  object \n",
      " 4   AcceptedDate                   64265 non-null  object \n",
      " 5   IsSponsorship                  65278 non-null  bool   \n",
      " 6   IsBequest                      65278 non-null  bool   \n",
      " 7   IsAggregation                  65278 non-null  bool   \n",
      " 8   AccountingUnitsAsCentralParty  65278 non-null  bool   \n",
      " 9   IsIrishSource                  64557 non-null  object \n",
      "dtypes: bool(4), float64(1), object(5)\n",
      "memory usage: 3.2+ MB\n",
      "None\n"
     ]
    }
   ],
   "source": [
    "#Clean and convert 'Value'\n",
    "data_selected.loc[:, 'Value'] = data_selected['Value'].replace('[\\£,]', '', regex=True)\n",
    "data_selected.loc[:, 'Value'] = pd.to_numeric(data_selected['Value'], errors='coerce')\n",
    "data_selected['Value'] = data_selected['Value'].astype(float)\n",
    "print(data_selected)\n",
    "\n",
    "print(\"NEW Dataset Info:\")\n",
    "print(data_selected.info())"
   ]
  },
  {
   "cell_type": "code",
   "execution_count": 29,
   "id": "cfaff431",
   "metadata": {},
   "outputs": [
    {
     "name": "stdout",
     "output_type": "stream",
     "text": [
      "Missing values after imputation:\n",
      "Value                            0\n",
      "RegulatedEntityType              0\n",
      "DonorStatus                      0\n",
      "DonationType                     0\n",
      "AcceptedDate                     0\n",
      "IsSponsorship                    0\n",
      "IsBequest                        0\n",
      "IsAggregation                    0\n",
      "AccountingUnitsAsCentralParty    0\n",
      "IsIrishSource                    0\n",
      "dtype: int64\n"
     ]
    }
   ],
   "source": [
    "#Handle missing values with MODA\n",
    "cat_columns = ['RegulatedEntityType', 'DonorStatus', 'DonationType', 'IsIrishSource']\n",
    "imputer_cat = SimpleImputer(strategy='most_frequent') # Imputed by MODA\n",
    "\n",
    "data_selected.loc[:, cat_columns] = imputer_cat.fit_transform(\n",
    "    data_selected[cat_columns])\n",
    "\n",
    "# Drop rows with missing AcceptedDate\n",
    "data_selected = data_selected.dropna(subset=['AcceptedDate'])\n",
    "\n",
    "# Verification\n",
    "print(\"Missing values after imputation:\")\n",
    "print(data_selected.isna().sum())"
   ]
  },
  {
   "cell_type": "code",
   "execution_count": 30,
   "id": "333d0f6b",
   "metadata": {},
   "outputs": [
    {
     "name": "stdout",
     "output_type": "stream",
     "text": [
      "NaT dates (invalid or null): 0\n"
     ]
    }
   ],
   "source": [
    "#Feature EngineerAcceptedDate\n",
    "# Adapted function to convert text or datetime to datetime\n",
    "def convert_to_datetime(value):\n",
    "    if pd.isna(value):\n",
    "        return pd.NaT\n",
    "    if isinstance(value, pd.Timestamp) or isinstance(value, datetime):  # Preserve Timestamps or datetime\n",
    "        return pd.to_datetime(value)\n",
    "    if isinstance(value, str):  # Handle text dates\n",
    "        try:\n",
    "            # Try dd/mm/yyyy or d/m/yyyy (both handled by %d/%m/%Y)\n",
    "            return pd.to_datetime(value, format='%d/%m/%Y', errors='coerce')\n",
    "        except:\n",
    "            return pd.NaT\n",
    "    return pd.NaT\n",
    "\n",
    "# Apply conversion\n",
    "# Observation: Convert text dates to datetime, preserve Timestamps. Keep NaT for nulls/invalid dates.\n",
    "data_selected.loc[:, 'AcceptedDate'] = data_selected['AcceptedDate'].apply(convert_to_datetime)\n",
    "#Verify\n",
    "print(\"NaT dates (invalid or null):\", data_selected['AcceptedDate'].isna().sum())"
   ]
  },
  {
   "cell_type": "code",
   "execution_count": 31,
   "id": "0c59f1b2",
   "metadata": {},
   "outputs": [
    {
     "name": "stdout",
     "output_type": "stream",
     "text": [
      "\n",
      "Unique values of Year (without NaN)): [2001, 2002, 2003, 2004, 2005, 2006, 2007, 2008, 2009, 2010, 2011, 2012, 2013, 2014, 2015, 2016, 2017, 2018, 2019]\n"
     ]
    }
   ],
   "source": [
    "# Extract Year\n",
    "# Convert AcceptedDate to datetime64[ns]\n",
    "data_selected['AcceptedDate'] = pd.to_datetime(data_selected['AcceptedDate'], errors='coerce', dayfirst=True)\n",
    "# Extract year and drop the original column\n",
    "data_selected['Year'] = data_selected['AcceptedDate'].dt.year\n",
    "data_selected.drop(columns='AcceptedDate', inplace=True)\n",
    "\n",
    "# Verification\n",
    "print(\"\\nUnique values of Year (without NaN)):\", sorted(data_selected['Year'].dropna().unique()))"
   ]
  },
  {
   "cell_type": "code",
   "execution_count": 33,
   "id": "60a04624",
   "metadata": {},
   "outputs": [
    {
     "data": {
      "image/png": "[encoded data removed]",
      "text/plain": [
       "<Figure size 1000x600 with 1 Axes>"
      ]
     },
     "metadata": {},
     "output_type": "display_data"
    }
   ],
   "source": [
    "# Plot distribution before transformation\n",
    "# Observation: Generate histogram with KDE to visualize long-tail distribution. Exclude NaN.\n",
    "plt.figure(figsize=(10, 6))\n",
    "sns.histplot(data_selected['Value'].dropna(), bins=50, kde=True, color='blue')\n",
    "plt.title('Distribución de los Montos de Donaciones (Value, GBP)')\n",
    "plt.xlabel('Monto de Donación (GBP)')\n",
    "plt.ylabel('Frecuencia')\n",
    "plt.xlim(0, data_selected['Value'].quantile(0.99))  # Limit to 99th percentile to avoid extreme outliers\n",
    "plt.grid(True)\n",
    "plt.show()"
   ]
  },
  {
   "cell_type": "code",
   "execution_count": 35,
   "id": "a9c0df56",
   "metadata": {},
   "outputs": [],
   "source": [
    "# Transform 'Value' with log1p\n",
    "# Observation: Apply log1p to reduce skewness. Handle NaN and ensure no negative values.\n",
    "if (data_selected['Value'] < 0).any():\n",
    "    print(\"Advertencia: Valores negativos en Value. Se convertirán a NaN para log1p.\")\n",
    "    data_selected.loc[data_selected['Value'] < 0, 'Value'] = np.nan\n",
    "data_selected.loc[:, 'Value'] = np.log1p(data_selected['Value'])"
   ]
  },
  {
   "cell_type": "code",
   "execution_count": 37,
   "id": "7675e59f",
   "metadata": {},
   "outputs": [
    {
     "data": {
      "image/png": "[encoded data removed]",
      "text/plain": [
       "<Figure size 1000x600 with 1 Axes>"
      ]
     },
     "metadata": {},
     "output_type": "display_data"
    }
   ],
   "source": [
    "# Plot distribution after transformation\n",
    "# Observation: Generate histogram with KDE to visualize more symmetric distribution. Exclude NaN.\n",
    "plt.figure(figsize=(10, 6))\n",
    "sns.histplot(data_selected['Value'].dropna(), bins=50, kde=True, color='green')\n",
    "plt.title('Distribución de los Montos de Donaciones (log1p(Value), log GBP)')\n",
    "plt.xlabel('Monto de Donación (log GBP)')\n",
    "plt.ylabel('Frecuencia')\n",
    "plt.grid(True)\n",
    "plt.show()"
   ]
  },
  {
   "cell_type": "code",
   "execution_count": null,
   "id": "eae96591",
   "metadata": {},
   "outputs": [],
   "source": []
  },
  {
   "cell_type": "code",
   "execution_count": null,
   "id": "bfe2178c",
   "metadata": {},
   "outputs": [],
   "source": []
  },
  {
   "cell_type": "code",
   "execution_count": null,
   "id": "284fc337",
   "metadata": {},
   "outputs": [],
   "source": []
  },
  {
   "cell_type": "markdown",
   "id": "c92ecff8",
   "metadata": {},
   "source": [
    "IMPORT DATA - Non-Profit Funding in the EU (Classification)\n",
    "\n",
    "https://www.kaggle.com/datasets/sarmitamajumdar/finding-donors-for-a-charity/data"
   ]
  },
  {
   "cell_type": "markdown",
   "id": "591d9e54",
   "metadata": {},
   "source": []
  }
 ],
 "metadata": {
  "kernelspec": {
   "display_name": "Python 3",
   "language": "python",
   "name": "python3"
  },
  "language_info": {
   "codemirror_mode": {
    "name": "ipython",
    "version": 3
   },
   "file_extension": ".py",
   "mimetype": "text/x-python",
   "name": "python",
   "nbconvert_exporter": "python",
   "pygments_lexer": "ipython3",
   "version": "3.12.0"
  }
 },
 "nbformat": 4,
 "nbformat_minor": 5
}
